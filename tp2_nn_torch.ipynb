{
  "cells": [
    {
      "cell_type": "markdown",
      "metadata": {
        "id": "gD1b5qzdASUM",
        "tags": [
          "pdf-title"
        ]
      },
      "source": [
        "# TP2 - Neural Networks with PyTorch"
      ]
    },
    {
      "cell_type": "markdown",
      "metadata": {
        "id": "5xBhwBOkASUV",
        "tags": [
          "pdf-ignore"
        ]
      },
      "source": [
        "## Prerequisites\n",
        "\n",
        "#### 1. What is PyTorch?\n",
        "\n",
        "PyTorch is a system for executing dynamic computational graphs over Tensor objects that behave similarly as numpy ndarray. It comes with a powerful automatic differentiation engine that removes the need for manual back-propagation.\n",
        "\n",
        "#### 2. Why?\n",
        "\n",
        "* Our code will now run on GPUs! Much faster training due to parallelisation of Tensors operations. When using a framework like PyTorch or TensorFlow you can harness the power of the GPU for your own custom neural network architectures without having to write CUDA code directly (which is beyond the scope of this class).\n",
        "* We want you to be ready to use one of these frameworks for your project so you can experiment more efficiently than if you were writing every feature you want to use by hand.\n",
        "* We want you to stand on the shoulders of giants! TensorFlow and PyTorch are both excellent frameworks that will make your lives a lot easier, and now that you understand their guts, you are free to use them :)\n",
        "* We want you to be exposed to the sort of deep learning code you might run into in academia or industry.\n",
        "\n",
        "#### 2'. Useful links\n",
        "\n",
        "* Pytorch documentation https://pytorch.org/docs/stable/index.html\n",
        "* Basic Pytorch tutorial https://pytorch.org/tutorials/beginner/basics/intro.html\n"
      ]
    },
    {
      "cell_type": "markdown",
      "metadata": {
        "id": "oCoPt5nuASUl",
        "tags": [
          "pdf-ignore"
        ]
      },
      "source": [
        "#### 3. GPU and Colab\n",
        "\n",
        "You have an option to **use GPU by setting the flag to True below**. It is not necessary to use GPU for this assignment. Note that if your computer does not have CUDA enabled, `torch.cuda.is_available()` will return False and this notebook will fallback to CPU mode.\n",
        "\n",
        "The global variables `dtype` and `device` will control the data types throughout this assignment.\n",
        "\n",
        "You need to manually switch to a GPU device. You can do this by clicking `Exécution -> Modifier le type d'exécution` and selecting `GPU` under `Accélérateur matèriel`. Note that you have to rerun the cells from the top since the kernel gets restarted upon switching runtimes."
      ]
    },
    {
      "cell_type": "code",
      "execution_count": 3,
      "metadata": {
        "colab": {
          "base_uri": "https://localhost:8080/"
        },
        "id": "ksk95v1MASUn",
        "outputId": "1674550e-f69f-47d5-bb5d-f81e6c535c26",
        "tags": [
          "pdf-ignore-input"
        ]
      },
      "outputs": [
        {
          "name": "stdout",
          "output_type": "stream",
          "text": [
            "using device: cuda\n"
          ]
        }
      ],
      "source": [
        "import torch\n",
        "\n",
        "USE_GPU = True\n",
        "dtype = torch.float32 # we will be using float throughout this tutorial\n",
        "device = torch.device('cuda') if (USE_GPU and torch.cuda.is_available()) else torch.device('cpu')\n",
        "\n",
        "# Constant to control how frequently we print train loss\n",
        "print_every = 100\n",
        "print('using device:', device)"
      ]
    },
    {
      "cell_type": "code",
      "execution_count": 4,
      "metadata": {},
      "outputs": [
        {
          "name": "stdout",
          "output_type": "stream",
          "text": [
            "Pytorch CUDA Version is  12.1\n"
          ]
        }
      ],
      "source": [
        "print(\"Pytorch CUDA Version is \", torch.version.cuda)"
      ]
    },
    {
      "cell_type": "markdown",
      "metadata": {
        "id": "tJqh_fxOASUZ"
      },
      "source": [
        "# Table of Contents\n",
        "\n",
        "This assignment has 5 parts. You will learn PyTorch on **three different levels of abstraction**, which will help you understand it better and prepare you for the final project.\n",
        "\n",
        "1. Part I. Preparation: we will use CIFAR-10 dataset.\n",
        "2. Part II. Barebones PyTorch: **Abstraction level 1**, we will work directly with the lowest-level PyTorch Tensors.\n",
        "3. Part III. PyTorch Module API: **Abstraction level 2**, we will use `nn.Module` to define arbitrary neural network architecture.\n",
        "4. Part IV. PyTorch Sequential API: **Abstraction level 3**, we will use `nn.Sequential` to define a linear feed-forward network very conveniently.\n",
        "5. Part V. CIFAR-10 open-ended challenge: please implement your own network to get as high accuracy as possible on CIFAR-10. You can experiment with any layer, optimizer, hyperparameters or other advanced features."
      ]
    },
    {
      "cell_type": "markdown",
      "metadata": {
        "id": "GE1mxBDBASUc"
      },
      "source": [
        "# Part I. Preparation\n",
        "\n",
        "In this section, we will load and preprocess the data used. First, we load the CIFAR-10 dataset. This might take a couple minutes the first time you do it, but the files should stay cached after that.\n",
        "\n",
        "The following code allows you first to visualize the data:"
      ]
    },
    {
      "cell_type": "code",
      "execution_count": 102,
      "metadata": {
        "colab": {
          "base_uri": "https://localhost:8080/",
          "height": 376
        },
        "id": "BBBXwqS5ASUe",
        "outputId": "e85c98e6-1389-4d48-cbe8-d2f0d08523f3",
        "tags": [
          "pdf-ignore"
        ]
      },
      "outputs": [
        {
          "name": "stdout",
          "output_type": "stream",
          "text": [
            "Files already downloaded and verified\n"
          ]
        },
        {
          "data": {
            "image/png": "[encoded data removed]",
            "text/plain": [
              "<Figure size 2000x400 with 20 Axes>"
            ]
          },
          "metadata": {},
          "output_type": "display_data"
        }
      ],
      "source": [
        "# Some imports\n",
        "from matplotlib import pyplot as plt\n",
        "import torch\n",
        "import torch.nn as nn\n",
        "import torch.optim as optim\n",
        "from torch.utils.data import DataLoader\n",
        "import pathlib\n",
        "from torch.utils.data import sampler\n",
        "import torchvision.datasets as dset\n",
        "import torchvision.transforms as T\n",
        "import numpy as np\n",
        "import pandas as pd \n",
        "\n",
        "cifar10_train = dset.CIFAR10('datasets', train=True, download=True, transform=None)\n",
        "\n",
        "fig, ax = plt.subplots(2, 10, figsize=(20, 4))\n",
        "for k in range(20):\n",
        "    img, label = cifar10_train[k]\n",
        "    class_name = cifar10_train.classes[label]\n",
        "    ax[k//10][k%10].imshow(img)\n",
        "    ax[k//10][k%10].set_title(class_name)\n",
        "    ax[k//10][k%10].axis('off')"
      ]
    },
    {
      "cell_type": "markdown",
      "metadata": {
        "id": "9s64qFDbziO9"
      },
      "source": [
        "As in any machine learning problem, it is better to have the same order of magnitude for each coordinate of the input. In the case of natural images, the standard procedure is to standardize along the color channel dimensions.\n",
        "\n",
        "**Q1.** Write the function `get_mu_std` which computes the mean and standard deviation on the full dataset. Check that your function gives `mu = [0.4914, 0.4822, 0.4465]` and `std = [0.2470, 0.2435, 0.2616]`. Directly use these values if you were not able to compute them.\n",
        "\n",
        "*Hint 1: In order to avoid memory issues, the best practice is to compute running estimates of mean and std when parsing the dataset. Such an algorithm can be found here* https://en.wikipedia.org/wiki/Algorithms_for_calculating_variance\n",
        "\n",
        "\n",
        "*Hint 2: when iterating through the dataset with the code above, img objects are PIL images, you first need to convert them to numpy arrays with* `np.asarray` *to perform basic algebric operations.*"
      ]
    },
    {
      "cell_type": "code",
      "execution_count": 6,
      "metadata": {
        "colab": {
          "base_uri": "https://localhost:8080/"
        },
        "id": "lRDbR82CASUg",
        "outputId": "f8717bc9-85b5-43f6-f354-760d443197af"
      },
      "outputs": [
        {
          "name": "stdout",
          "output_type": "stream",
          "text": [
            "Statistics per channel: mu=[0.49139968 0.48215841 0.44653091], std=[0.24703223 0.24348513 0.26158784]\n"
          ]
        }
      ],
      "source": [
        "def get_mu_std(dataset):\n",
        "    ######################################\n",
        "    # START code block: write code below\n",
        "    ######################################\n",
        "\n",
        "    mu, std = np.mean(dataset.data,axis=(0,1,2)), np.std(dataset.data,axis=(0,1,2))\n",
        "    ######################################\n",
        "    # END code block\n",
        "    ######################################\n",
        "    return mu/255, std/255\n",
        "\n",
        "mu, std = get_mu_std(cifar10_train)\n",
        "print(f'Statistics per channel: mu={mu}, std={std}')"
      ]
    },
    {
      "cell_type": "markdown",
      "metadata": {
        "id": "-oRk-5LtziO_"
      },
      "source": [
        "The `torchvision.transforms` package provides tools for preprocessing data\n",
        "and for performing data augmentation; here we set up a transform to:\n",
        "1. convert PIL images into `torch.Tensor` (equivalent to the `np.array` in numpy)\n",
        "2. preprocess the data by subtracting the mean RGB value and dividing by the standard deviation of each RGB value.\n",
        "\n",
        "We set up a Dataset object for each split (train / val / test); Datasets load\n",
        "training examples one at a time, so we wrap each Dataset in a DataLoader which\n",
        "iterates through the Dataset and forms minibatches. We divide the CIFAR-10\n",
        "training set into train and val sets by passing a Sampler object to the\n",
        "DataLoader telling how it should sample from the underlying Dataset."
      ]
    },
    {
      "cell_type": "code",
      "execution_count": 7,
      "metadata": {
        "colab": {
          "base_uri": "https://localhost:8080/"
        },
        "id": "iFSdC0zIASUj",
        "outputId": "984dd2f8-7f54-473c-9d14-5567baaebad6",
        "tags": [
          "pdf-ignore"
        ]
      },
      "outputs": [
        {
          "name": "stdout",
          "output_type": "stream",
          "text": [
            "Files already downloaded and verified\n",
            "Files already downloaded and verified\n",
            "Files already downloaded and verified\n"
          ]
        }
      ],
      "source": [
        "NUM_TRAIN = 49000\n",
        "transform = T.Compose([T.ToTensor(), T.Normalize(mu, std)])\n",
        "\n",
        "cifar10_train = dset.CIFAR10('/datasets', train=True, download=True, transform=transform)\n",
        "loader_train = DataLoader(cifar10_train, batch_size=64, sampler=sampler.SubsetRandomSampler(range(NUM_TRAIN)))\n",
        "\n",
        "cifar10_val = dset.CIFAR10('/datasets', train=True, download=True, transform=transform)\n",
        "loader_val = DataLoader(cifar10_val, batch_size=64, sampler=sampler.SubsetRandomSampler(range(NUM_TRAIN, 50000)))\n",
        "\n",
        "cifar10_test = dset.CIFAR10('/datasets', train=False, download=True, transform=transform)\n",
        "loader_test = DataLoader(cifar10_test, batch_size=64)"
      ]
    },
    {
      "cell_type": "markdown",
      "metadata": {
        "id": "ohW1JJ08ASUo"
      },
      "source": [
        "# Part II. Discovering PyTorch basics\n",
        "\n",
        "In this section, we will manipulate basic PyTorch elements in a standard classification setting to understand the library better. We will start by building a simple fully-connected ReLU network (or Multi-Layer Perceptron, MLP) with two hidden layers. This implementation computes the forward pass using operations on PyTorch Tensors, and uses PyTorch autograd to compute gradients. It is important that you understand every line, because you will write a harder version after the example.\n",
        "\n",
        "*NB:* As a recall, the most convenient part of such library is the automatic differentiation machinery: that is we don't need to perform manual backpropagation. More specifically, when we create a PyTorch Tensor with `requires_grad=True`, then operations involving that Tensor will not just compute values; they will also build up a computational graph in the background, allowing us to easily backpropagate through the graph to compute gradients of some Tensors with respect to a downstream loss. Concretely if x is a Tensor with `x.requires_grad == True` then after backpropagation `x.grad` will be another Tensor holding the gradient of x with respect to the scalar loss at the end."
      ]
    },
    {
      "cell_type": "markdown",
      "metadata": {
        "id": "cMj2Y7YYASUp",
        "tags": [
          "pdf-ignore"
        ]
      },
      "source": [
        "## 1. Tensors and Flatten function\n",
        "\n",
        "A PyTorch Tensor is conceptionally similar to a numpy array: it is an n-dimensional grid of numbers, and like numpy PyTorch provides many functions to efficiently operate on Tensors. As a simple example, the `flatten` function below reshapes image data given a consistent shape argument. Following PyTorch's convention, image data should be stored in a Tensor of shape N x C x H x W, where:\n",
        "\n",
        "* N is the number of images\n",
        "* C is the number of channels, e.g. 3 for RGB images\n",
        "* H is the height of the images\n",
        "* W is the weight of the images\n",
        "\n",
        "This format is the only good format to represent the data when we are using classical PyTorch functions like a 2D convolution that needs spatial understanding of where the datapoints are relative to each other. When we use fully connected layers to process the image, however, we want each datapoint to be represented by a single vector. So, it is common to use a \"flatten\" operation to collapse the `C x H x W` values per representation into a single long vector. The flatten function below first reads in the N, C, H, and W values from a given batch of data, and then returns a \"view\" of that data. \"View\" is analogous to numpy's \"reshape\" method: it reshapes x's dimensions to be N x ??, where ?? is allowed to be anything (in this case, it will be C x H x W, but we don't need to specify that explicitly).\n",
        "\n",
        "*NB:* Note that this channel-first convention is typically different from other image libraries which often use the channel-last convention (H x W x C)"
      ]
    },
    {
      "cell_type": "code",
      "execution_count": 8,
      "metadata": {
        "colab": {
          "base_uri": "https://localhost:8080/"
        },
        "id": "NOH7c3NOASUq",
        "outputId": "008d0090-7530-4bd4-b4f7-974e2e4481b6",
        "tags": [
          "pdf-ignore-input"
        ]
      },
      "outputs": [
        {
          "name": "stdout",
          "output_type": "stream",
          "text": [
            "Before flattening:  tensor([[[[ 0,  1],\n",
            "          [ 2,  3],\n",
            "          [ 4,  5]]],\n",
            "\n",
            "\n",
            "        [[[ 6,  7],\n",
            "          [ 8,  9],\n",
            "          [10, 11]]]])\n",
            "After flattening:  tensor([[ 0,  1,  2,  3,  4,  5],\n",
            "        [ 6,  7,  8,  9, 10, 11]])\n"
          ]
        }
      ],
      "source": [
        "def flatten(x):\n",
        "    N = x.shape[0] # read in N, C, H, W\n",
        "    return x.view(N, -1)  # \"flatten\" the C * H * W values into a single vector per image\n",
        "\n",
        "def test_flatten():\n",
        "    x = torch.arange(12).view(2, 1, 3, 2)\n",
        "    print('Before flattening: ', x)\n",
        "    print('After flattening: ', flatten(x))\n",
        "\n",
        "test_flatten()"
      ]
    },
    {
      "cell_type": "markdown",
      "metadata": {
        "id": "VQ5gGHfVziPB"
      },
      "source": [
        "Please read and understand the code above."
      ]
    },
    {
      "cell_type": "markdown",
      "metadata": {
        "id": "8KH5R-m8ASUq",
        "tags": [
          "pdf-ignore"
        ]
      },
      "source": [
        "## 2. Two-Layer Perceptron\n",
        "\n",
        "Similar to TP1, we will implement a 2-layer Perceptron for image classification. However, we here leverage the tools and automatic differentiation provided by the PyTorch framework.\n",
        "\n",
        "**Q2.** Implement the function `two_layer_fc` which performs the forward pass of a two-layer fully-connected ReLU network on a batch of image data. Check that it produces outputs of the right shape by running zeros through the network."
      ]
    },
    {
      "cell_type": "code",
      "execution_count": 9,
      "metadata": {
        "colab": {
          "base_uri": "https://localhost:8080/"
        },
        "id": "yeKvPZX-ASUr",
        "outputId": "57838f1f-17fb-4813-d6d1-291624549531",
        "tags": [
          "pdf-ignore-input"
        ]
      },
      "outputs": [
        {
          "name": "stdout",
          "output_type": "stream",
          "text": [
            "torch.Size([64, 10])\n"
          ]
        }
      ],
      "source": [
        "import torch.nn.functional as F  # useful stateless functions\n",
        "\n",
        "def two_layer_fc(x, params):\n",
        "    \"\"\"\n",
        "    Inputs:\n",
        "    - x: A PyTorch Tensor of shape (N, d1, ..., dM) representing a batch of data,\n",
        "    - params: A list [w1, w2] of PyTorch Tensors giving the weights of the network.\n",
        "    w1 has shape (d1 + ... + dM, H) and w2 has shape (H, C).\n",
        "\n",
        "    Returns:\n",
        "    - scores: A PyTorch Tensor of shape (N, C) giving classification scores for\n",
        "    the input data x.\n",
        "    \"\"\"\n",
        "    w1, w2 = params\n",
        "    ######################################\n",
        "    # START code block: write code below\n",
        "    ######################################\n",
        "    x = F.linear(flatten(x), w1.T)\n",
        "    x = F.relu(x)\n",
        "    res = F.linear(x, w2.T)\n",
        "\n",
        "    ######################################\n",
        "    # END code block\n",
        "    ######################################\n",
        "    return res\n",
        "\n",
        "def test_two_layer_fc():\n",
        "    hidden_layer_size = 42\n",
        "    x = torch.zeros((64, 50), dtype=dtype)  # minibatch size 64, feature dimension 50\n",
        "    w1 = torch.zeros((50, hidden_layer_size), dtype=dtype)\n",
        "    w2 = torch.zeros((hidden_layer_size, 10), dtype=dtype)\n",
        "    scores = two_layer_fc(x, [w1, w2])\n",
        "    print(scores.size())  # you should see [64, 10]\n",
        "\n",
        "test_two_layer_fc()"
      ]
    },
    {
      "cell_type": "markdown",
      "metadata": {
        "id": "28GoOIWIASUr"
      },
      "source": [
        "#### Important note\n",
        "\n",
        "There is **no softmax activation** in the last layer of the network. Thus, it outputs real values, yet we have seen that the cross entropy loss - the standard loss for classification - expects inputs interpreted as probabilities (i.e. in [0,1] and sum to 1). This is because PyTorch's cross entropy loss performs a softmax activation for you, and by bundling that step in makes computation more efficient."
      ]
    },
    {
      "cell_type": "markdown",
      "metadata": {
        "id": "61cspnYzASUr"
      },
      "source": [
        "## 3. Three-Layer CNN\n",
        "\n",
        "In this section, you will implement a Convolutional Neural Networks (CNN) with three layers. The network should have the following architecture:\n",
        "\n",
        "1. A convolutional layer (with bias) with `channel_1` filters, each with shape `KW1 x KH1`, and zero-padding of two\n",
        "2. ReLU nonlinearity\n",
        "3. A convolutional layer (with bias) with `channel_2` filters, each with shape `KW2 x KH2`, and zero-padding of one\n",
        "4. ReLU nonlinearity\n",
        "5. Fully-connected layer with bias, producing scores for C classes.\n",
        "\n",
        "**Q3.** Complete the implementation of the function `three_layer_convnet`, which will perform the forward pass of a three-layer convolutional network. Like above, you can test your implementation by passing zeros through the network."
      ]
    },
    {
      "cell_type": "code",
      "execution_count": 10,
      "metadata": {
        "colab": {
          "base_uri": "https://localhost:8080/"
        },
        "id": "XM8YHMnRASUr",
        "outputId": "bd2c2f4f-79e9-4710-f527-5fca5faecc41"
      },
      "outputs": [
        {
          "name": "stdout",
          "output_type": "stream",
          "text": [
            "torch.Size([64, 10])\n"
          ]
        }
      ],
      "source": [
        "def three_layer_cnn(x, params):\n",
        "    \"\"\"\n",
        "    Inputs:\n",
        "    - x: A PyTorch Tensor of shape (N, 3, H, W) giving a minibatch of images\n",
        "    - params: A list of PyTorch Tensors giving the weights and biases for the\n",
        "      network; should contain the following:\n",
        "      - conv_w1: PyTorch Tensor of shape (channel_1, 3, KH1, KW1) giving weights\n",
        "        for the first convolutional layer\n",
        "      - conv_b1: PyTorch Tensor of shape (channel_1,) giving biases for the first\n",
        "        convolutional layer\n",
        "      - conv_w2: PyTorch Tensor of shape (channel_2, channel_1, KH2, KW2) giving\n",
        "        weights for the second convolutional layer\n",
        "      - conv_b2: PyTorch Tensor of shape (channel_2,) giving biases for the second\n",
        "        convolutional layer\n",
        "      - fc_w: PyTorch Tensor giving weights for the fully-connected layer. Can you\n",
        "        figure out what the shape should be?\n",
        "      - fc_b: PyTorch Tensor giving biases for the fully-connected layer. Can you\n",
        "        figure out what the shape should be?\n",
        "\n",
        "    Returns:\n",
        "    - scores: PyTorch Tensor of shape (N, C) giving classification scores for x\n",
        "    \"\"\"\n",
        "    conv_w1, conv_b1, conv_w2, conv_b2, fc_w, fc_b = params\n",
        "    ######################################\n",
        "    # START code block: write code below\n",
        "    ######################################\n",
        "    x = F.conv2d(x, conv_w1, conv_b1, padding = 2)\n",
        "    x = F.relu(x)\n",
        "    x = F.conv2d(x, conv_w2, conv_b2, padding = 1)\n",
        "    x = F.relu(x)\n",
        "    scores = F.linear(flatten(x), fc_w.T, fc_b)\n",
        "    ######################################\n",
        "    # END code block\n",
        "    ######################################\n",
        "    return scores\n",
        "\n",
        "def test_three_layer_cnn():\n",
        "    x = torch.zeros((64, 3, 32, 32), dtype=dtype)  # minibatch size 64, image size [3, 32, 32]\n",
        "\n",
        "    conv_w1 = torch.zeros((6, 3, 5, 5), dtype=dtype)  # [out_channel, in_channel, kernel_H, kernel_W]\n",
        "    conv_b1 = torch.zeros((6,))  # out_channel\n",
        "    conv_w2 = torch.zeros((9, 6, 3, 3), dtype=dtype)  # [out_channel, in_channel, kernel_H, kernel_W]\n",
        "    conv_b2 = torch.zeros((9,))  # out_channel\n",
        "\n",
        "    # you must calculate the shape of the tensor after two conv layers, before the fully-connected layer\n",
        "    fc_w = torch.zeros((9 * 32 * 32, 10))\n",
        "    fc_b = torch.zeros(10)\n",
        "\n",
        "    scores = three_layer_cnn(x, [conv_w1, conv_b1, conv_w2, conv_b2, fc_w, fc_b])\n",
        "    print(scores.size())  # you should see [64, 10]\n",
        "\n",
        "test_three_layer_cnn()"
      ]
    },
    {
      "cell_type": "markdown",
      "metadata": {
        "id": "UxAjvUrbziPC"
      },
      "source": [
        "\n",
        "\n",
        "*Hint*: use http://pytorch.org/docs/stable/nn.html#torch.nn.functional.conv2d and pay attention to the shapes of convolutional filters!"
      ]
    },
    {
      "cell_type": "markdown",
      "metadata": {
        "id": "sIHn5muqASUs"
      },
      "source": [
        "## 4. Weights initialization\n",
        "\n",
        "As seen during the course, the initialization of the weights of the neural networks plays a key role for faster and better convergence. Let's write a couple utility methods to initialize the weight matrices for our models.\n",
        "\n",
        "- `zero_weight` initializes a weight tensor with all zeros (e.g. for biais parameters) given a shape\n",
        "- `random_weight` initialized a weight tensor with the Kaiming initialization method described in [1] given a shape\n",
        "\n",
        "[1] He et al, *Delving Deep into Rectifiers: Surpassing Human-Level Performance on ImageNet Classification*, ICCV 2015, https://arxiv.org/abs/1502.01852"
      ]
    },
    {
      "cell_type": "code",
      "execution_count": 11,
      "metadata": {
        "id": "KqU2ctcgASUs",
        "tags": [
          "pdf-ignore-input"
        ]
      },
      "outputs": [],
      "source": [
        "def random_weight(shape):\n",
        "    \"\"\"\n",
        "    Create random Tensors for weights; setting requires_grad=True means that we\n",
        "    want to compute gradients for these Tensors during the backward pass.\n",
        "    We use Kaiming normalization: sqrt(2 / fan_in)\n",
        "    \"\"\"\n",
        "    if len(shape) == 2:  # FC weight\n",
        "        fan_in = shape[0]\n",
        "    else:\n",
        "        fan_in = np.prod(shape[1:]) # conv weight [out_channel, in_channel, kH, kW]\n",
        "    w = torch.randn(shape, device=device, dtype=dtype) * np.sqrt(2. / fan_in)\n",
        "    w.requires_grad = True\n",
        "    return w\n",
        "\n",
        "def zero_weight(shape):\n",
        "    return torch.zeros(shape, device=device, dtype=dtype, requires_grad=True)"
      ]
    },
    {
      "cell_type": "markdown",
      "metadata": {
        "id": "Tf7b7QXDziPD"
      },
      "source": [
        "Please read and understand the code above."
      ]
    },
    {
      "cell_type": "markdown",
      "metadata": {
        "id": "scS5bMwfASUs"
      },
      "source": [
        "## 5. Compute accuracy\n",
        "\n",
        "When training the model, we will need a function to compute the accuracy of our model on both training or validation sets. When checking accuracy we don't need to compute any gradients; as a result we don't need PyTorch to build a computational graph for us when we compute scores. To prevent a graph from being built we scope our computation under a `torch.no_grad()` context manager.\n",
        "\n",
        "**Q4.** Modify `compute_accuracy` function that outputs the classification score given a `loader`, a `model_fn` and associated `params`."
      ]
    },
    {
      "cell_type": "code",
      "execution_count": 12,
      "metadata": {
        "colab": {
          "base_uri": "https://localhost:8080/"
        },
        "id": "lPq7ikqzASUs",
        "outputId": "05342b50-e55c-48fa-9467-3c30618e4467",
        "tags": [
          "pdf-ignore-input"
        ]
      },
      "outputs": [
        {
          "name": "stdout",
          "output_type": "stream",
          "text": [
            "Checking accuracy on the val set\n",
            "Got 87 / 1000 correct (8.70%)\n"
          ]
        }
      ],
      "source": [
        "def compute_accuracy(loader, model_fn, params):\n",
        "    \"\"\"\n",
        "    Computes the accuracy of a classification model defined by `model_fn` and `params`\n",
        "    on the data in `loader`\n",
        "\n",
        "    Inputs:\n",
        "    - loader: A DataLoader for the data split we want to check\n",
        "    - model_fn: A function that performs the forward pass of the model,\n",
        "      with the signature scores = model_fn(x, params)\n",
        "    - params: List of PyTorch Tensors giving parameters of the model\n",
        "\n",
        "    Returns: Nothing, but prints the accuracy of the model\n",
        "    \"\"\"\n",
        "    split = 'val' if loader.dataset.train else 'test'\n",
        "    print('Checking accuracy on the %s set' % split)\n",
        "    num_correct, num_samples = 0, 0\n",
        "    with torch.no_grad():\n",
        "        for x, y in loader:\n",
        "            x = x.to(device=device, dtype=dtype)\n",
        "            y = y.to(device=device, dtype=torch.int64)\n",
        "\n",
        "            ######################################\n",
        "            # START code block: write code below\n",
        "            ######################################\n",
        "            y_pred = torch.argmax(model_fn(x,params),axis=1)\n",
        "            num_correct += torch.sum(y_pred == y)\n",
        "            num_samples += y.shape[0]\n",
        "            ######################################\n",
        "            # END code block\n",
        "            ######################################\n",
        "\n",
        "        acc = float(num_correct) / num_samples\n",
        "        print('Got %d / %d correct (%.2f%%)' % (num_correct, num_samples, 100 * acc))\n",
        "\n",
        "def test_compute_accuracy():\n",
        "    \"\"\"Dummy test of compute_accuracy\"\"\"\n",
        "    hidden_layer_size = 50\n",
        "    w1 = torch.zeros((3 * 32 * 32, hidden_layer_size),device=device)\n",
        "    w2 = torch.zeros((hidden_layer_size, 10),device=device)\n",
        "    acc = compute_accuracy(loader_val, two_layer_fc, [w1, w2])\n",
        "\n",
        "test_compute_accuracy()"
      ]
    },
    {
      "cell_type": "markdown",
      "metadata": {
        "id": "nV-dSxV2ziPE"
      },
      "source": [
        "By running the code above, the accuracy should be in the order of magnitude of 1 / 10 (number of classes).\n",
        "\n",
        "*Remark:* the accuracy is classicaly defined as the ratio of the number of correct predictions (True Positive) among the total number of samples"
      ]
    },
    {
      "cell_type": "markdown",
      "metadata": {
        "id": "UjqxBexvASUt"
      },
      "source": [
        "## 6. Training Loop\n",
        "We can now set up a basic training loop to train our network. We will train the model using stochastic gradient descent without momentum. We will use `torch.functional.cross_entropy` to compute the loss; you can [read about it here](http://pytorch.org/docs/stable/nn.html#cross-entropy).\n",
        "\n",
        "**Q5.** Modify the function `train` which takes as input the neural network function, a list of initialized parameters, and learning rate."
      ]
    },
    {
      "cell_type": "code",
      "execution_count": 13,
      "metadata": {
        "id": "10YB6vxaASUt",
        "tags": [
          "pdf-ignore-input"
        ]
      },
      "outputs": [],
      "source": [
        "def train(model_fn, params, learning_rate):\n",
        "    \"\"\"\n",
        "    Inputs:\n",
        "    - model_fn: A Python function that performs the forward pass of the model.\n",
        "      It should have the signature scores = model_fn(x, params) where x is a\n",
        "      PyTorch Tensor of image data, params is a list of PyTorch Tensors giving\n",
        "      model weights, and scores is a PyTorch Tensor of shape (N, C) giving\n",
        "      scores for the elements in x.\n",
        "    - params: List of PyTorch Tensors giving weights for the model\n",
        "    - learning_rate: Python scalar giving the learning rate to use for SGD\n",
        "\n",
        "    Returns: the loss values at specific iterations\n",
        "    \"\"\"\n",
        "    losses = {}\n",
        "    for t, (x, y) in enumerate(loader_train):\n",
        "        # Move the data to the proper device (GPU or CPU)\n",
        "        x = x.to(device=device, dtype=dtype)\n",
        "        y = y.to(device=device, dtype=torch.long)\n",
        "\n",
        "        # Forward pass: compute scores and loss\n",
        "        scores = model_fn(x, params)\n",
        "\n",
        "        loss = F.cross_entropy(scores, y)\n",
        "        # Backward pass: PyTorch figures out which Tensors in the computational\n",
        "        # graph has requires_grad=True and uses backpropagation to compute the\n",
        "        # gradient of the loss with respect to these Tensors, and stores the\n",
        "        # gradients in the .grad attribute of each Tensor.\n",
        "        loss.backward()\n",
        "\n",
        "        # Update parameters. We don't want to backpropagate through the\n",
        "        # parameter updates, so we scope the updates under a torch.no_grad()\n",
        "        # context manager to prevent a computational graph from being built.\n",
        "        with torch.no_grad():\n",
        "            ######################################\n",
        "            # START code block: write code below\n",
        "            ######################################\n",
        "            # Iterate over parameters and update them with SGD\n",
        "            for p in params:\n",
        "                p -= learning_rate * p.grad\n",
        "            ######################################\n",
        "            # END code block\n",
        "            ######################################\n",
        "\n",
        "            # We manually zero the gradients after running the backward pass\n",
        "            for p in params:\n",
        "                p.grad.zero_()\n",
        "\n",
        "\n",
        "\n",
        "\n",
        "        if t % print_every == 0:\n",
        "            print('Iteration %d, loss = %.4f' % (t, loss.item()))\n",
        "            losses[t] = loss.item()\n",
        "            compute_accuracy(loader_val, model_fn, params)\n",
        "            print()\n",
        "\n",
        "    return losses"
      ]
    },
    {
      "cell_type": "markdown",
      "metadata": {
        "id": "W7QlhQVJASUu"
      },
      "source": [
        "## 7. Train a Two-Layer Perceptron\n",
        "Now we are ready to run the training loop. We need to explicitly allocate tensors for the fully connected weights, `w1` and `w2`. Each minibatch of CIFAR has 64 examples, so the tensor shape is `[64, 3, 32, 32]`.  After flattening, `x` shape should be `[64, 3 * 32 * 32]`. This will be the size of the first dimension of `w1`.\n",
        "The second dimension of `w1` is the hidden layer size, which will also be the first dimension of `w2`. Finally, the output of the network is a 10-dimensional vector that represents the probability distribution over 10 classes."
      ]
    },
    {
      "cell_type": "code",
      "execution_count": 14,
      "metadata": {
        "colab": {
          "base_uri": "https://localhost:8080/"
        },
        "id": "cHYfBTZ-ASUu",
        "outputId": "7a78b161-4eaa-4a8f-8fdf-b3e0221ba004"
      },
      "outputs": [
        {
          "name": "stdout",
          "output_type": "stream",
          "text": [
            "Iteration 0, loss = 3.0610\n",
            "Checking accuracy on the val set\n",
            "Got 149 / 1000 correct (14.90%)\n",
            "\n",
            "Iteration 100, loss = 1.8262\n",
            "Checking accuracy on the val set\n",
            "Got 365 / 1000 correct (36.50%)\n",
            "\n",
            "Iteration 200, loss = 1.5272\n",
            "Checking accuracy on the val set\n",
            "Got 401 / 1000 correct (40.10%)\n",
            "\n",
            "Iteration 300, loss = 1.5633\n",
            "Checking accuracy on the val set\n",
            "Got 364 / 1000 correct (36.40%)\n",
            "\n",
            "Iteration 400, loss = 1.8327\n",
            "Checking accuracy on the val set\n",
            "Got 378 / 1000 correct (37.80%)\n",
            "\n",
            "Iteration 500, loss = 1.6540\n",
            "Checking accuracy on the val set\n",
            "Got 435 / 1000 correct (43.50%)\n",
            "\n",
            "Iteration 600, loss = 1.7824\n",
            "Checking accuracy on the val set\n",
            "Got 446 / 1000 correct (44.60%)\n",
            "\n",
            "Iteration 700, loss = 1.5835\n",
            "Checking accuracy on the val set\n",
            "Got 439 / 1000 correct (43.90%)\n",
            "\n"
          ]
        }
      ],
      "source": [
        "hidden_layer_size = 4000\n",
        "learning_rate = 1e-2\n",
        "\n",
        "w1 = random_weight((3 * 32 * 32, hidden_layer_size))\n",
        "w2 = random_weight((hidden_layer_size, 10))\n",
        "\n",
        "losses = train(two_layer_fc, [w1, w2], learning_rate)"
      ]
    },
    {
      "cell_type": "markdown",
      "metadata": {
        "id": "aG4IjUqiziPF"
      },
      "source": [
        "\n",
        "You don't need to tune any hyperparameters but you should see accuracies above 40% after training for one epoch. Run the cell below to check that the loss is decreasing w.r.t. the number of iterations"
      ]
    },
    {
      "cell_type": "code",
      "execution_count": 15,
      "metadata": {
        "colab": {
          "base_uri": "https://localhost:8080/",
          "height": 522
        },
        "id": "QW6xegl4ziPH",
        "outputId": "f2c1c544-96c4-4e23-df27-bcc1d68c1c7c"
      },
      "outputs": [
        {
          "name": "stderr",
          "output_type": "stream",
          "text": [
            "C:\\Users\\murat\\AppData\\Local\\Temp\\ipykernel_19336\\3006424173.py:6: UserWarning: Matplotlib is currently using module://matplotlib_inline.backend_inline, which is a non-GUI backend, so cannot show the figure.\n",
            "  fig.show()\n"
          ]
        },
        {
          "data": {
            "image/png": "[encoded data removed]",
            "text/plain": [
              "<Figure size 1100x600 with 1 Axes>"
            ]
          },
          "metadata": {},
          "output_type": "display_data"
        }
      ],
      "source": [
        "fig, ax = plt.subplots(figsize=(11, 6))\n",
        "x = sorted(losses.keys())\n",
        "y = [losses[e] for e in x]\n",
        "ax.plot(x, y, label='loss')\n",
        "ax.legend()\n",
        "fig.show()"
      ]
    },
    {
      "cell_type": "markdown",
      "metadata": {
        "id": "gF9mofntASUu"
      },
      "source": [
        "### 8. Training a ConvNet\n",
        "\n",
        "In the below you should use the functions defined above to train a three-layer convolutional network on CIFAR. The network should have the following architecture:\n",
        "\n",
        "1. Convolutional layer (with bias) with 32 5x5 filters, with zero-padding of 2\n",
        "2. ReLU\n",
        "3. Convolutional layer (with bias) with 16 3x3 filters, with zero-padding of 1\n",
        "4. ReLU\n",
        "5. Fully-connected layer (with bias) to compute scores for 10 classes\n",
        "\n",
        "**Q6.** Initialize your weight matrices using the `random_weight` function defined above, and initialize your bias vectors using the `zero_weight` function above and run the code below."
      ]
    },
    {
      "cell_type": "code",
      "execution_count": 16,
      "metadata": {
        "colab": {
          "base_uri": "https://localhost:8080/"
        },
        "id": "barebones_accuracy",
        "outputId": "7813b51b-60e8-400e-9afc-1ed62a05674a"
      },
      "outputs": [
        {
          "name": "stdout",
          "output_type": "stream",
          "text": [
            "Iteration 0, loss = 3.4274\n",
            "Checking accuracy on the val set\n",
            "Got 131 / 1000 correct (13.10%)\n",
            "\n",
            "Iteration 100, loss = 1.9529\n",
            "Checking accuracy on the val set\n",
            "Got 309 / 1000 correct (30.90%)\n",
            "\n",
            "Iteration 200, loss = 1.8307\n",
            "Checking accuracy on the val set\n",
            "Got 387 / 1000 correct (38.70%)\n",
            "\n",
            "Iteration 300, loss = 1.7058\n",
            "Checking accuracy on the val set\n",
            "Got 403 / 1000 correct (40.30%)\n",
            "\n",
            "Iteration 400, loss = 1.3929\n",
            "Checking accuracy on the val set\n",
            "Got 436 / 1000 correct (43.60%)\n",
            "\n",
            "Iteration 500, loss = 1.5362\n",
            "Checking accuracy on the val set\n",
            "Got 441 / 1000 correct (44.10%)\n",
            "\n",
            "Iteration 600, loss = 1.4290\n",
            "Checking accuracy on the val set\n",
            "Got 448 / 1000 correct (44.80%)\n",
            "\n",
            "Iteration 700, loss = 1.8800\n",
            "Checking accuracy on the val set\n",
            "Got 454 / 1000 correct (45.40%)\n",
            "\n"
          ]
        }
      ],
      "source": [
        "learning_rate = 3e-3\n",
        "\n",
        "channel_1 = 32\n",
        "channel_2 = 16\n",
        "\n",
        "######################################\n",
        "# START code block: write code below\n",
        "######################################\n",
        "conv_w1 = random_weight((32, 3, 5, 5))  # [out_channel, in_channel, kernel_H, kernel_W]\n",
        "conv_b1 = zero_weight((32,))  # out_channel\n",
        "conv_w2 = random_weight((16, 32, 3, 3))  # [out_channel, in_channel, kernel_H, kernel_W]\n",
        "conv_b2 = zero_weight((16,))  # out_channel\n",
        "fc_w = random_weight((16 * 32 * 32, 10))\n",
        "fc_b = zero_weight(10)\n",
        "\n",
        "######################################\n",
        "# END code block\n",
        "######################################\n",
        "\n",
        "params = [conv_w1, conv_b1, conv_w2, conv_b2, fc_w, fc_b]\n",
        "losses = train(three_layer_cnn, params, learning_rate)"
      ]
    },
    {
      "cell_type": "markdown",
      "metadata": {
        "id": "uTmi1v3wziPI"
      },
      "source": [
        "\n",
        "You don't need to tune any hyperparameters, but if everything works correctly you should achieve an accuracy above 42% after one epoch. Run the cell below to check that the loss is decreasing w.r.t. the number of iterations"
      ]
    },
    {
      "cell_type": "code",
      "execution_count": 17,
      "metadata": {
        "colab": {
          "base_uri": "https://localhost:8080/",
          "height": 524
        },
        "id": "NWeUX695ziPI",
        "outputId": "aedd4ef7-0f56-4d16-b236-caec881e3434"
      },
      "outputs": [
        {
          "name": "stderr",
          "output_type": "stream",
          "text": [
            "C:\\Users\\murat\\AppData\\Local\\Temp\\ipykernel_19336\\3006424173.py:6: UserWarning: Matplotlib is currently using module://matplotlib_inline.backend_inline, which is a non-GUI backend, so cannot show the figure.\n",
            "  fig.show()\n"
          ]
        },
        {
          "data": {
            "image/png": "[encoded data removed]",
            "text/plain": [
              "<Figure size 1100x600 with 1 Axes>"
            ]
          },
          "metadata": {},
          "output_type": "display_data"
        }
      ],
      "source": [
        "fig, ax = plt.subplots(figsize=(11, 6))\n",
        "x = sorted(losses.keys())\n",
        "y = [losses[e] for e in x]\n",
        "ax.plot(x, y, label='loss')\n",
        "ax.legend()\n",
        "fig.show()"
      ]
    },
    {
      "cell_type": "markdown",
      "metadata": {
        "id": "FUSp_DmxASUu"
      },
      "source": [
        "# Part III. PyTorch Module API\n",
        "\n",
        "Barebone PyTorch requires that we track all the parameter tensors by hand. This is fine for small networks with a few tensors, but it would be extremely inconvenient and error-prone to track tens or hundreds of tensors in larger networks.\n",
        "\n",
        "PyTorch provides the `nn.Module` API for you to define arbitrary network architectures, while tracking every learnable parameters for you. In Part II, we implemented SGD ourselves. PyTorch also provides the `torch.optim` package that implements all the common optimizers, such as RMSProp, Adagrad, and Adam. You can refer to the [doc](http://pytorch.org/docs/master/optim.html) for the exact specifications of each optimizer.\n",
        "\n",
        "To use the Module API, follow the steps below:\n",
        "\n",
        "1. Subclass `nn.Module`. Give your network class an intuitive name like `TwoLayerFC`.\n",
        "\n",
        "2. In the constructor `__init__()`, define all the layers you need as class attributes. Layer objects like `nn.Linear` and `nn.Conv2d` are themselves `nn.Module` subclasses and contain learnable parameters, so that you don't have to instantiate the raw tensors yourself. `nn.Module` will track these internal parameters for you. Refer to the [doc](http://pytorch.org/docs/master/nn.html) to learn more about the dozens of builtin layers and see their source code to understand how they are initialized. **Warning**: don't forget to call the `super().__init__()` first!\n",
        "\n",
        "3. In the `forward()` method, define the *connectivity* of your network. You should use the attributes defined in `__init__` as function calls that take tensor as input and output the \"transformed\" tensor. Do *not* create any new layers with learnable parameters in `forward()`! All of them must be declared upfront in `__init__`.\n",
        "\n",
        "\n",
        "After you define your Module subclass, you can instantiate it as an object and call it just like the NN forward function in part II.\n",
        "\n",
        "### 1. Two-Layer Network\n",
        "Here is a concrete example of a 2-layer fully connected network:"
      ]
    },
    {
      "cell_type": "code",
      "execution_count": 18,
      "metadata": {
        "colab": {
          "base_uri": "https://localhost:8080/"
        },
        "id": "3WKphZJMASUv",
        "outputId": "a9d5795e-0fdc-4765-a3b9-84dbfac0db22"
      },
      "outputs": [
        {
          "name": "stdout",
          "output_type": "stream",
          "text": [
            "torch.Size([64, 10])\n"
          ]
        }
      ],
      "source": [
        "class TwoLayerFC(nn.Module):\n",
        "    def __init__(self, input_size, hidden_size, num_classes):\n",
        "        super().__init__()\n",
        "        # assign layer objects to class attributes\n",
        "        self.fc1 = nn.Linear(input_size, hidden_size)\n",
        "        # nn.init package contains convenient initialization methods\n",
        "        # http://pytorch.org/docs/master/nn.html#torch-nn-init\n",
        "        nn.init.kaiming_normal_(self.fc1.weight)\n",
        "        self.fc2 = nn.Linear(hidden_size, num_classes)\n",
        "        nn.init.kaiming_normal_(self.fc2.weight)\n",
        "\n",
        "    def forward(self, x):\n",
        "        # forward always defines connectivity\n",
        "        x = flatten(x)\n",
        "        scores = self.fc2(F.relu(self.fc1(x)))\n",
        "        return scores\n",
        "\n",
        "def test_TwoLayerFC():\n",
        "    input_size = 50\n",
        "    x = torch.zeros((64, input_size), dtype=dtype)  # minibatch size 64, feature dimension 50\n",
        "    model = TwoLayerFC(input_size, 42, 10)\n",
        "    scores = model(x)\n",
        "    print(scores.size())  # you should see [64, 10]\n",
        "\n",
        "test_TwoLayerFC()"
      ]
    },
    {
      "cell_type": "markdown",
      "metadata": {
        "id": "yUtZFMzDziPJ"
      },
      "source": [
        "You don't have to implement anything here, please read and understand the code above. If you have questions, you can ask on Slack."
      ]
    },
    {
      "cell_type": "markdown",
      "metadata": {
        "id": "i23wt2JNASUv"
      },
      "source": [
        "### 2. Three-Layer ConvNet\n",
        "It's your turn to implement a 3-layer ConvNet followed by a fully connected layer. The network architecture should be the same as in Part II:\n",
        "\n",
        "1. Convolutional layer with `channel_1` 5x5 filters with zero-padding of 2\n",
        "2. ReLU\n",
        "3. Convolutional layer with `channel_2` 3x3 filters with zero-padding of 1\n",
        "4. ReLU\n",
        "5. Fully-connected layer to `num_classes` classes\n",
        "\n",
        "\n",
        "**Q7.** Implement the three-layer ConvNet where the weight matrices of the model are initialized using the Kaiming normal initialization method. The `test_ThreeLayerConvNet` function will run your implementation; it should print `(64, 10)` for the shape of the output scores."
      ]
    },
    {
      "cell_type": "code",
      "execution_count": 19,
      "metadata": {
        "colab": {
          "base_uri": "https://localhost:8080/"
        },
        "id": "module_output_shape",
        "outputId": "3c00345f-acc2-4c6d-c8f9-8196e0bb7bc9"
      },
      "outputs": [
        {
          "name": "stdout",
          "output_type": "stream",
          "text": [
            "torch.Size([64, 10])\n"
          ]
        }
      ],
      "source": [
        "class ThreeLayerConvNet(nn.Module):\n",
        "    def __init__(self, in_channel, channel_1, channel_2, num_classes):\n",
        "        super().__init__()\n",
        "        ########################################################################\n",
        "        # TODO: Set up the layers you need for a three-layer ConvNet with the  #\n",
        "        # architecture defined above.                                          #\n",
        "        ########################################################################\n",
        "        # *****START OF YOUR CODE (DO NOT DELETE/MODIFY THIS LINE)*****\n",
        "\n",
        "        self.conv1 = nn.Conv2d(in_channel,channel_1,kernel_size=(5,5),padding = 2)\n",
        "        nn.init.kaiming_normal_(self.conv1.weight)\n",
        "        self.conv2 = nn.Conv2d(channel_1,channel_2,kernel_size=(3,3),padding = 1)\n",
        "        nn.init.kaiming_normal_(self.conv2.weight)\n",
        "        self.fc1 = nn.Linear(channel_2*32*32,10)\n",
        "        nn.init.kaiming_normal_(self.fc1.weight)\n",
        "\n",
        "        # *****END OF YOUR CODE (DO NOT DELETE/MODIFY THIS LINE)*****\n",
        "        ########################################################################\n",
        "        #                          END OF YOUR CODE                            #\n",
        "        ########################################################################\n",
        "\n",
        "    def forward(self, x):\n",
        "        scores = None\n",
        "        ########################################################################\n",
        "        # TODO: Implement the forward function for a 3-layer ConvNet. you      #\n",
        "        # should use the layers you defined in __init__ and specify the        #\n",
        "        # connectivity of those layers in forward()                            #\n",
        "        ########################################################################\n",
        "        # *****START OF YOUR CODE (DO NOT DELETE/MODIFY THIS LINE)*****\n",
        "\n",
        "        x = self.conv1(x)\n",
        "        x = F.relu(x)\n",
        "        x = self.conv2(x)\n",
        "        x = F.relu(x)\n",
        "        x = flatten(x)\n",
        "        scores = self.fc1(x)\n",
        "\n",
        "        # *****END OF YOUR CODE (DO NOT DELETE/MODIFY THIS LINE)*****\n",
        "        ########################################################################\n",
        "        #                             END OF YOUR CODE                         #\n",
        "        ########################################################################\n",
        "        return scores\n",
        "\n",
        "\n",
        "def test_ThreeLayerConvNet():\n",
        "    x = torch.zeros((64, 3, 32, 32), dtype=dtype)  # minibatch size 64, image size [3, 32, 32]\n",
        "    model = ThreeLayerConvNet(in_channel=3, channel_1=12, channel_2=8, num_classes=10)\n",
        "    scores = model(x)\n",
        "    print(scores.size())  # you should see [64, 10]\n",
        "\n",
        "test_ThreeLayerConvNet()"
      ]
    },
    {
      "cell_type": "markdown",
      "metadata": {
        "id": "XCKW1rCEziPJ"
      },
      "source": [
        "*Hint*: You can find more information about convolutional modules at http://pytorch.org/docs/stable/nn.html#conv2d"
      ]
    },
    {
      "cell_type": "markdown",
      "metadata": {
        "id": "McDZj6BBASUv"
      },
      "source": [
        "### 3. Check Accuracy\n",
        "Given the validation or test set, we can check the classification accuracy of a neural network.\n",
        "\n",
        "**Q8.** Implement the `check_accuracy` function that computes the score for a given `loader` and `model`. This version is slightly different from the one in part II. You don't manually pass in the parameters anymore."
      ]
    },
    {
      "cell_type": "code",
      "execution_count": 108,
      "metadata": {
        "id": "cLFxSyU2ASUv"
      },
      "outputs": [],
      "source": [
        "def check_accuracy(loader, model):\n",
        "    if loader.dataset.train:\n",
        "        print('Checking accuracy on validation set')\n",
        "    else:\n",
        "        print('Checking accuracy on test set')\n",
        "    num_correct = 0\n",
        "    num_samples = 0\n",
        "    model.eval()  # set model to evaluation mode\n",
        "    with torch.no_grad():\n",
        "        for x, y in loader:\n",
        "            x = x.to(device=device, dtype=dtype)  # move to device, e.g. GPU\n",
        "            y = y.to(device=device, dtype=torch.long)\n",
        "\n",
        "            ######################################\n",
        "            # START code block: write code below\n",
        "            ######################################\n",
        "            y_pred = torch.argmax(model(x),axis=1)\n",
        "            num_correct += torch.sum(y_pred == y)\n",
        "            num_samples += y.shape[0]\n",
        "            ######################################\n",
        "            # END code block\n",
        "            ######################################\n",
        "\n",
        "        acc = float(num_correct) / num_samples\n",
        "        print('Got %d / %d correct (%.2f)' % (num_correct, num_samples, 100 * acc))\n",
        "\n",
        "    return acc"
      ]
    },
    {
      "cell_type": "markdown",
      "metadata": {
        "id": "OUaeMD8IziPK"
      },
      "source": [
        "### 4. Validation loop\n",
        "\n",
        "**Q9.** Implement a function `run_val` which takes as input `loader`, `model` and returns the loss computed on the full data of the loader."
      ]
    },
    {
      "cell_type": "code",
      "execution_count": 21,
      "metadata": {
        "id": "g676ej66ziPL"
      },
      "outputs": [],
      "source": [
        "def run_val(loader, model):\n",
        "    model.eval()\n",
        "    loss = 0\n",
        "    with torch.no_grad():\n",
        "        for x, y in loader:\n",
        "            x = x.to(device=device, dtype=dtype)  # move to device, e.g. GPU\n",
        "            \n",
        "            ######################################\n",
        "            # START code block: write code below\n",
        "            ######################################\n",
        "            y = y.to(device=device)\n",
        "            score = model(x)\n",
        "            loss += F.cross_entropy(score, y)\n",
        "\n",
        "            ######################################\n",
        "            # END code block\n",
        "            ######################################\n",
        "\n",
        "    return loss / len(loader)"
      ]
    },
    {
      "cell_type": "markdown",
      "metadata": {
        "id": "8HNqdAf1ASUw"
      },
      "source": [
        "### 4. Training Loop\n",
        "We also use a slightly different training loop. Rather than updating the values of the weights ourselves, we use an Optimizer object from the `torch.optim` package, which abstract the notion of an optimization algorithm and provides implementations of most of the algorithms commonly used to optimize neural networks."
      ]
    },
    {
      "cell_type": "code",
      "execution_count": 22,
      "metadata": {
        "id": "XTKLR_dtASUw"
      },
      "outputs": [],
      "source": [
        "def train_module(model, optimizer, epochs=1):\n",
        "    \"\"\"\n",
        "    Train a model on CIFAR-10 using the PyTorch Module API.\n",
        "\n",
        "    Inputs:\n",
        "    - model: A PyTorch Module giving the model to train.\n",
        "    - optimizer: An Optimizer object we will use to train the model\n",
        "    - epochs: (Optional) A Python integer giving the number of epochs to train for\n",
        "\n",
        "    Returns: the loss values at specific iterations\n",
        "    \"\"\"\n",
        "    losses = {}\n",
        "    losses_val = {}\n",
        "    model = model.to(device=device)  # move the model parameters to CPU/GPU\n",
        "    for e in range(epochs):\n",
        "        for t, (x, y) in enumerate(loader_train):\n",
        "            model.train()  # put model to training mode\n",
        "            x = x.to(device=device, dtype=dtype)  # move to device, e.g. GPU\n",
        "            y = y.to(device=device, dtype=torch.long)\n",
        "\n",
        "            scores = model(x)\n",
        "            loss = F.cross_entropy(scores, y)\n",
        "\n",
        "            # Zero out all of the gradients for the variables which the optimizer\n",
        "            # will update.\n",
        "            optimizer.zero_grad()\n",
        "\n",
        "            # This is the backwards pass: compute the gradient of the loss with\n",
        "            # respect to each  parameter of the model.\n",
        "            loss.backward()\n",
        "\n",
        "            # Actually update the parameters of the model using the gradients\n",
        "            # computed by the backwards pass.\n",
        "            optimizer.step()\n",
        "\n",
        "            if t % print_every == 0:\n",
        "                print('Iteration %d, loss = %.4f' % (t, loss.item()))\n",
        "                losses[e * len(loader_train) + t] = loss.item()\n",
        "                check_accuracy(loader_val, model)\n",
        "                print()\n",
        "\n",
        "        loss_val = run_val(loader_val, model)\n",
        "        losses_val[(e + 1) * len(loader_train)] = loss_val.item()\n",
        "\n",
        "    return losses, losses_val"
      ]
    },
    {
      "cell_type": "markdown",
      "metadata": {
        "id": "zYuAzdPSziPN"
      },
      "source": [
        "You don't have to do anything in the code above, please read it carefully to understand it."
      ]
    },
    {
      "cell_type": "markdown",
      "metadata": {
        "id": "9t81WuorASUx"
      },
      "source": [
        "### 5. Train a Two-Layer Network\n",
        "Now we are ready to run the training loop. In contrast to part II, we don't explicitly allocate parameter tensors anymore. Simply pass the input size, hidden layer size, and number of classes (i.e. output size) to the constructor of `TwoLayerFC`.  You also need to define an optimizer that tracks all the learnable parameters inside `TwoLayerFC`."
      ]
    },
    {
      "cell_type": "code",
      "execution_count": 23,
      "metadata": {
        "colab": {
          "base_uri": "https://localhost:8080/"
        },
        "id": "6oUk4OStASUx",
        "outputId": "d6f8199f-e53f-48a6-acd0-9d55ff180159"
      },
      "outputs": [
        {
          "name": "stdout",
          "output_type": "stream",
          "text": [
            "Iteration 0, loss = 2.9754\n",
            "Checking accuracy on validation set\n",
            "Got 117 / 1000 correct (11.70)\n",
            "\n",
            "Iteration 100, loss = 1.8916\n",
            "Checking accuracy on validation set\n",
            "Got 336 / 1000 correct (33.60)\n",
            "\n",
            "Iteration 200, loss = 1.7972\n",
            "Checking accuracy on validation set\n",
            "Got 361 / 1000 correct (36.10)\n",
            "\n",
            "Iteration 300, loss = 1.5543\n",
            "Checking accuracy on validation set\n",
            "Got 380 / 1000 correct (38.00)\n",
            "\n",
            "Iteration 400, loss = 1.9326\n",
            "Checking accuracy on validation set\n",
            "Got 347 / 1000 correct (34.70)\n",
            "\n",
            "Iteration 500, loss = 1.4576\n",
            "Checking accuracy on validation set\n",
            "Got 424 / 1000 correct (42.40)\n",
            "\n",
            "Iteration 600, loss = 1.7750\n",
            "Checking accuracy on validation set\n",
            "Got 397 / 1000 correct (39.70)\n",
            "\n",
            "Iteration 700, loss = 1.7721\n",
            "Checking accuracy on validation set\n",
            "Got 429 / 1000 correct (42.90)\n",
            "\n"
          ]
        }
      ],
      "source": [
        "hidden_layer_size = 4000\n",
        "learning_rate = 1e-2\n",
        "model = TwoLayerFC(3 * 32 * 32, hidden_layer_size, 10)\n",
        "optimizer = optim.SGD(model.parameters(), lr=learning_rate)\n",
        "\n",
        "loss_train, loss_val = train_module(model, optimizer)"
      ]
    },
    {
      "cell_type": "markdown",
      "metadata": {
        "id": "jW2EWLunziPO"
      },
      "source": [
        "\n",
        "You don't need to tune any hyperparameters, but you should see model accuracies above 40% after training for one epoch. Run the cell below to check that the loss is decreasing w.r.t. the number of iterations"
      ]
    },
    {
      "cell_type": "code",
      "execution_count": 24,
      "metadata": {
        "colab": {
          "base_uri": "https://localhost:8080/",
          "height": 522
        },
        "id": "mDeTvbFuziPO",
        "outputId": "841b05f1-6417-421f-fd58-b8f412fd18d7"
      },
      "outputs": [
        {
          "name": "stderr",
          "output_type": "stream",
          "text": [
            "C:\\Users\\murat\\AppData\\Local\\Temp\\ipykernel_19336\\3645319622.py:6: UserWarning: Matplotlib is currently using module://matplotlib_inline.backend_inline, which is a non-GUI backend, so cannot show the figure.\n",
            "  fig.show()\n"
          ]
        },
        {
          "data": {
            "image/png": "[encoded data removed]",
            "text/plain": [
              "<Figure size 1100x600 with 1 Axes>"
            ]
          },
          "metadata": {},
          "output_type": "display_data"
        }
      ],
      "source": [
        "fig, ax = plt.subplots(figsize=(11, 6))\n",
        "x = sorted(loss_train.keys())\n",
        "y = [loss_train[e] for e in x]\n",
        "ax.plot(x, y, label='loss_train')\n",
        "ax.legend()\n",
        "fig.show()"
      ]
    },
    {
      "cell_type": "markdown",
      "metadata": {
        "id": "9WSjbXHiASUx"
      },
      "source": [
        "### 6. Train a Three-Layer ConvNet\n",
        "You should now use the Module API to train a three-layer ConvNet on CIFAR. This should look very similar to training the two-layer network! You don't need to tune any hyperparameters, but you should achieve above above 45% after training for one epoch.\n",
        "\n",
        "**Q10.** Modify code below to instantiate and train a `ThreeLayerConvNet`. You should train the model using stochastic gradient descent without momentum. Alos, plot the train loss and the valid loss during training as well as the accuracy on the training and validation set."
      ]
    },
    {
      "cell_type": "code",
      "execution_count": 25,
      "metadata": {
        "id": "module_accuracy"
      },
      "outputs": [
        {
          "name": "stdout",
          "output_type": "stream",
          "text": [
            "Iteration 0, loss = 2.6925\n",
            "Checking accuracy on validation set\n",
            "Got 128 / 1000 correct (12.80)\n",
            "\n",
            "Iteration 100, loss = 1.9168\n",
            "Checking accuracy on validation set\n",
            "Got 368 / 1000 correct (36.80)\n",
            "\n",
            "Iteration 200, loss = 1.9443\n",
            "Checking accuracy on validation set\n",
            "Got 407 / 1000 correct (40.70)\n",
            "\n",
            "Iteration 300, loss = 1.4767\n",
            "Checking accuracy on validation set\n",
            "Got 429 / 1000 correct (42.90)\n",
            "\n",
            "Iteration 400, loss = 1.5694\n",
            "Checking accuracy on validation set\n",
            "Got 454 / 1000 correct (45.40)\n",
            "\n",
            "Iteration 500, loss = 1.6378\n",
            "Checking accuracy on validation set\n",
            "Got 466 / 1000 correct (46.60)\n",
            "\n",
            "Iteration 600, loss = 1.2899\n",
            "Checking accuracy on validation set\n",
            "Got 488 / 1000 correct (48.80)\n",
            "\n",
            "Iteration 700, loss = 1.4013\n",
            "Checking accuracy on validation set\n",
            "Got 480 / 1000 correct (48.00)\n",
            "\n",
            "Iteration 0, loss = 1.2965\n",
            "Checking accuracy on validation set\n",
            "Got 488 / 1000 correct (48.80)\n",
            "\n",
            "Iteration 100, loss = 1.3509\n",
            "Checking accuracy on validation set\n",
            "Got 497 / 1000 correct (49.70)\n",
            "\n",
            "Iteration 200, loss = 1.1767\n",
            "Checking accuracy on validation set\n",
            "Got 495 / 1000 correct (49.50)\n",
            "\n",
            "Iteration 300, loss = 1.2744\n",
            "Checking accuracy on validation set\n",
            "Got 507 / 1000 correct (50.70)\n",
            "\n",
            "Iteration 400, loss = 1.3112\n",
            "Checking accuracy on validation set\n",
            "Got 524 / 1000 correct (52.40)\n",
            "\n",
            "Iteration 500, loss = 1.5440\n",
            "Checking accuracy on validation set\n",
            "Got 501 / 1000 correct (50.10)\n",
            "\n",
            "Iteration 600, loss = 1.3916\n",
            "Checking accuracy on validation set\n",
            "Got 523 / 1000 correct (52.30)\n",
            "\n",
            "Iteration 700, loss = 1.1566\n",
            "Checking accuracy on validation set\n",
            "Got 521 / 1000 correct (52.10)\n",
            "\n",
            "Iteration 0, loss = 1.1957\n",
            "Checking accuracy on validation set\n",
            "Got 521 / 1000 correct (52.10)\n",
            "\n",
            "Iteration 100, loss = 1.2779\n",
            "Checking accuracy on validation set\n",
            "Got 522 / 1000 correct (52.20)\n",
            "\n",
            "Iteration 200, loss = 1.2820\n",
            "Checking accuracy on validation set\n",
            "Got 516 / 1000 correct (51.60)\n",
            "\n",
            "Iteration 300, loss = 1.4240\n",
            "Checking accuracy on validation set\n",
            "Got 527 / 1000 correct (52.70)\n",
            "\n",
            "Iteration 400, loss = 1.5943\n",
            "Checking accuracy on validation set\n",
            "Got 534 / 1000 correct (53.40)\n",
            "\n",
            "Iteration 500, loss = 1.1965\n",
            "Checking accuracy on validation set\n",
            "Got 526 / 1000 correct (52.60)\n",
            "\n",
            "Iteration 600, loss = 1.3199\n",
            "Checking accuracy on validation set\n",
            "Got 541 / 1000 correct (54.10)\n",
            "\n",
            "Iteration 700, loss = 1.4559\n",
            "Checking accuracy on validation set\n",
            "Got 531 / 1000 correct (53.10)\n",
            "\n",
            "Iteration 0, loss = 1.6394\n",
            "Checking accuracy on validation set\n",
            "Got 540 / 1000 correct (54.00)\n",
            "\n",
            "Iteration 100, loss = 1.2513\n",
            "Checking accuracy on validation set\n",
            "Got 550 / 1000 correct (55.00)\n",
            "\n",
            "Iteration 200, loss = 1.2543\n",
            "Checking accuracy on validation set\n",
            "Got 543 / 1000 correct (54.30)\n",
            "\n",
            "Iteration 300, loss = 1.0873\n",
            "Checking accuracy on validation set\n",
            "Got 541 / 1000 correct (54.10)\n",
            "\n",
            "Iteration 400, loss = 1.0456\n",
            "Checking accuracy on validation set\n",
            "Got 541 / 1000 correct (54.10)\n",
            "\n",
            "Iteration 500, loss = 1.1481\n",
            "Checking accuracy on validation set\n",
            "Got 542 / 1000 correct (54.20)\n",
            "\n",
            "Iteration 600, loss = 1.0924\n",
            "Checking accuracy on validation set\n",
            "Got 555 / 1000 correct (55.50)\n",
            "\n",
            "Iteration 700, loss = 1.1877\n",
            "Checking accuracy on validation set\n",
            "Got 556 / 1000 correct (55.60)\n",
            "\n",
            "Iteration 0, loss = 1.2302\n",
            "Checking accuracy on validation set\n",
            "Got 554 / 1000 correct (55.40)\n",
            "\n",
            "Iteration 100, loss = 1.1406\n",
            "Checking accuracy on validation set\n",
            "Got 545 / 1000 correct (54.50)\n",
            "\n",
            "Iteration 200, loss = 1.4378\n",
            "Checking accuracy on validation set\n",
            "Got 554 / 1000 correct (55.40)\n",
            "\n",
            "Iteration 300, loss = 1.0961\n",
            "Checking accuracy on validation set\n",
            "Got 561 / 1000 correct (56.10)\n",
            "\n",
            "Iteration 400, loss = 1.3377\n",
            "Checking accuracy on validation set\n",
            "Got 568 / 1000 correct (56.80)\n",
            "\n",
            "Iteration 500, loss = 1.2737\n",
            "Checking accuracy on validation set\n",
            "Got 573 / 1000 correct (57.30)\n",
            "\n",
            "Iteration 600, loss = 1.1396\n",
            "Checking accuracy on validation set\n",
            "Got 572 / 1000 correct (57.20)\n",
            "\n",
            "Iteration 700, loss = 1.1804\n",
            "Checking accuracy on validation set\n",
            "Got 548 / 1000 correct (54.80)\n",
            "\n",
            "Iteration 0, loss = 1.2620\n",
            "Checking accuracy on validation set\n",
            "Got 569 / 1000 correct (56.90)\n",
            "\n",
            "Iteration 100, loss = 1.1877\n",
            "Checking accuracy on validation set\n",
            "Got 569 / 1000 correct (56.90)\n",
            "\n",
            "Iteration 200, loss = 1.0146\n",
            "Checking accuracy on validation set\n",
            "Got 543 / 1000 correct (54.30)\n",
            "\n",
            "Iteration 300, loss = 0.9935\n",
            "Checking accuracy on validation set\n",
            "Got 564 / 1000 correct (56.40)\n",
            "\n",
            "Iteration 400, loss = 1.1671\n",
            "Checking accuracy on validation set\n",
            "Got 573 / 1000 correct (57.30)\n",
            "\n",
            "Iteration 500, loss = 1.1146\n",
            "Checking accuracy on validation set\n",
            "Got 544 / 1000 correct (54.40)\n",
            "\n",
            "Iteration 600, loss = 1.0316\n",
            "Checking accuracy on validation set\n",
            "Got 556 / 1000 correct (55.60)\n",
            "\n",
            "Iteration 700, loss = 1.0539\n",
            "Checking accuracy on validation set\n",
            "Got 572 / 1000 correct (57.20)\n",
            "\n",
            "Iteration 0, loss = 1.2050\n",
            "Checking accuracy on validation set\n",
            "Got 577 / 1000 correct (57.70)\n",
            "\n",
            "Iteration 100, loss = 0.8864\n",
            "Checking accuracy on validation set\n",
            "Got 572 / 1000 correct (57.20)\n",
            "\n",
            "Iteration 200, loss = 0.9871\n",
            "Checking accuracy on validation set\n",
            "Got 559 / 1000 correct (55.90)\n",
            "\n",
            "Iteration 300, loss = 1.0200\n",
            "Checking accuracy on validation set\n",
            "Got 572 / 1000 correct (57.20)\n",
            "\n",
            "Iteration 400, loss = 1.1749\n",
            "Checking accuracy on validation set\n",
            "Got 588 / 1000 correct (58.80)\n",
            "\n",
            "Iteration 500, loss = 1.0588\n",
            "Checking accuracy on validation set\n",
            "Got 571 / 1000 correct (57.10)\n",
            "\n",
            "Iteration 600, loss = 0.8854\n",
            "Checking accuracy on validation set\n",
            "Got 586 / 1000 correct (58.60)\n",
            "\n",
            "Iteration 700, loss = 1.0259\n",
            "Checking accuracy on validation set\n",
            "Got 573 / 1000 correct (57.30)\n",
            "\n",
            "Iteration 0, loss = 1.0167\n",
            "Checking accuracy on validation set\n",
            "Got 582 / 1000 correct (58.20)\n",
            "\n",
            "Iteration 100, loss = 0.9349\n",
            "Checking accuracy on validation set\n",
            "Got 593 / 1000 correct (59.30)\n",
            "\n",
            "Iteration 200, loss = 0.9858\n",
            "Checking accuracy on validation set\n",
            "Got 580 / 1000 correct (58.00)\n",
            "\n",
            "Iteration 300, loss = 1.0696\n",
            "Checking accuracy on validation set\n",
            "Got 575 / 1000 correct (57.50)\n",
            "\n",
            "Iteration 400, loss = 1.0354\n",
            "Checking accuracy on validation set\n",
            "Got 584 / 1000 correct (58.40)\n",
            "\n",
            "Iteration 500, loss = 1.0814\n",
            "Checking accuracy on validation set\n",
            "Got 594 / 1000 correct (59.40)\n",
            "\n",
            "Iteration 600, loss = 0.8691\n",
            "Checking accuracy on validation set\n",
            "Got 589 / 1000 correct (58.90)\n",
            "\n",
            "Iteration 700, loss = 0.9379\n",
            "Checking accuracy on validation set\n",
            "Got 608 / 1000 correct (60.80)\n",
            "\n",
            "Iteration 0, loss = 0.8712\n",
            "Checking accuracy on validation set\n",
            "Got 580 / 1000 correct (58.00)\n",
            "\n",
            "Iteration 100, loss = 1.1516\n",
            "Checking accuracy on validation set\n",
            "Got 591 / 1000 correct (59.10)\n",
            "\n",
            "Iteration 200, loss = 0.8280\n",
            "Checking accuracy on validation set\n",
            "Got 600 / 1000 correct (60.00)\n",
            "\n",
            "Iteration 300, loss = 0.9800\n",
            "Checking accuracy on validation set\n",
            "Got 589 / 1000 correct (58.90)\n",
            "\n",
            "Iteration 400, loss = 1.0414\n",
            "Checking accuracy on validation set\n",
            "Got 592 / 1000 correct (59.20)\n",
            "\n",
            "Iteration 500, loss = 0.9786\n",
            "Checking accuracy on validation set\n",
            "Got 578 / 1000 correct (57.80)\n",
            "\n",
            "Iteration 600, loss = 1.0238\n",
            "Checking accuracy on validation set\n",
            "Got 594 / 1000 correct (59.40)\n",
            "\n",
            "Iteration 700, loss = 0.8064\n",
            "Checking accuracy on validation set\n",
            "Got 594 / 1000 correct (59.40)\n",
            "\n",
            "Iteration 0, loss = 0.9946\n",
            "Checking accuracy on validation set\n",
            "Got 582 / 1000 correct (58.20)\n",
            "\n",
            "Iteration 100, loss = 0.7428\n",
            "Checking accuracy on validation set\n",
            "Got 588 / 1000 correct (58.80)\n",
            "\n",
            "Iteration 200, loss = 0.7768\n",
            "Checking accuracy on validation set\n",
            "Got 598 / 1000 correct (59.80)\n",
            "\n",
            "Iteration 300, loss = 0.8813\n",
            "Checking accuracy on validation set\n",
            "Got 592 / 1000 correct (59.20)\n",
            "\n",
            "Iteration 400, loss = 0.9648\n",
            "Checking accuracy on validation set\n",
            "Got 597 / 1000 correct (59.70)\n",
            "\n",
            "Iteration 500, loss = 0.9798\n",
            "Checking accuracy on validation set\n",
            "Got 596 / 1000 correct (59.60)\n",
            "\n",
            "Iteration 600, loss = 0.9475\n",
            "Checking accuracy on validation set\n",
            "Got 600 / 1000 correct (60.00)\n",
            "\n",
            "Iteration 700, loss = 0.9363\n",
            "Checking accuracy on validation set\n",
            "Got 603 / 1000 correct (60.30)\n",
            "\n"
          ]
        }
      ],
      "source": [
        "learning_rate = 3e-3\n",
        "channel_1 = 32\n",
        "channel_2 = 16\n",
        "\n",
        "model = None\n",
        "optimizer = None\n",
        "\n",
        "################################################################################\n",
        "# TODO: Instantiate your ThreeLayerConvNet model and a corresponding optimizer #\n",
        "################################################################################\n",
        "# *****START OF YOUR CODE (DO NOT DELETE/MODIFY THIS LINE)*****\n",
        "\n",
        "model = ThreeLayerConvNet(3, channel_1, channel_2, 10)\n",
        "optimizer = optim.SGD(model.parameters(), lr=learning_rate)\n",
        "\n",
        "# *****END OF YOUR CODE (DO NOT DELETE/MODIFY THIS LINE)*****\n",
        "################################################################################\n",
        "#                                 END OF YOUR CODE\n",
        "################################################################################\n",
        "\n",
        "loss_train, loss_val = train_module(model, optimizer, epochs=10)"
      ]
    },
    {
      "cell_type": "markdown",
      "metadata": {
        "id": "GBmo1L4XziPP"
      },
      "source": [
        "You don't need to tune any hyperparameters, but you should see model accuracies above 45% after training for one epoch. Run the cell below to check that the loss is decreasing w.r.t. the number of iterations."
      ]
    },
    {
      "cell_type": "code",
      "execution_count": 26,
      "metadata": {
        "id": "H34bFt5gziPP"
      },
      "outputs": [
        {
          "name": "stderr",
          "output_type": "stream",
          "text": [
            "C:\\Users\\murat\\AppData\\Local\\Temp\\ipykernel_19336\\2326364852.py:9: UserWarning: Matplotlib is currently using module://matplotlib_inline.backend_inline, which is a non-GUI backend, so cannot show the figure.\n",
            "  fig.show()\n"
          ]
        },
        {
          "data": {
            "image/png": "[encoded data removed]",
            "text/plain": [
              "<Figure size 1100x600 with 1 Axes>"
            ]
          },
          "metadata": {},
          "output_type": "display_data"
        }
      ],
      "source": [
        "fig, ax = plt.subplots(figsize=(11, 6))\n",
        "x = sorted(loss_train.keys())\n",
        "y = [loss_train[e] for e in x]\n",
        "ax.plot(x, y, label='loss_train')\n",
        "x = sorted(loss_val.keys())\n",
        "y = [loss_val[e] for e in x]\n",
        "ax.plot(x, y, label='loss_val')\n",
        "ax.legend()\n",
        "fig.show()"
      ]
    },
    {
      "cell_type": "markdown",
      "metadata": {},
      "source": [
        "The graph shows that the loss on both the train and val sets is decreasing. Also, the accuracy on the val set went from 48% to 60%, showing that the model is learning."
      ]
    },
    {
      "cell_type": "markdown",
      "metadata": {
        "id": "oyRwuK9HASUy"
      },
      "source": [
        "# Part IV. PyTorch Sequential API\n",
        "\n",
        "Part III introduced the PyTorch Module API, which allows you to define arbitrary learnable layers and their connectivity.\n",
        "\n",
        "For simple models like a stack of feed forward layers, you still need to go through 3 steps: subclass `nn.Module`, assign layers to class attributes in `__init__`, and call each layer one by one in `forward()`. Is there a more convenient way?\n",
        "\n",
        "Fortunately, PyTorch provides a container Module called `nn.Sequential`, which merges the above steps into one. It is not as flexible as `nn.Module`, because you cannot specify more complex topology than a feed-forward stack, but it's good enough for many use cases.\n",
        "\n",
        "### 1. Two-Layer Network\n",
        "Let's see how to rewrite our two-layer fully connected network example with `nn.Sequential`, and train it using the training loop defined above.\n",
        "\n",
        "Again, you don't need to tune any hyperparameters here, but you shoud achieve above 40% accuracy after one epoch of training."
      ]
    },
    {
      "cell_type": "code",
      "execution_count": 27,
      "metadata": {
        "id": "oS363C4_ASUz"
      },
      "outputs": [
        {
          "name": "stdout",
          "output_type": "stream",
          "text": [
            "Iteration 0, loss = 2.3413\n",
            "Checking accuracy on validation set\n",
            "Got 172 / 1000 correct (17.20)\n",
            "\n",
            "Iteration 100, loss = 1.7874\n",
            "Checking accuracy on validation set\n",
            "Got 408 / 1000 correct (40.80)\n",
            "\n",
            "Iteration 200, loss = 1.9024\n",
            "Checking accuracy on validation set\n",
            "Got 394 / 1000 correct (39.40)\n",
            "\n",
            "Iteration 300, loss = 1.6088\n",
            "Checking accuracy on validation set\n",
            "Got 440 / 1000 correct (44.00)\n",
            "\n",
            "Iteration 400, loss = 1.2219\n",
            "Checking accuracy on validation set\n",
            "Got 442 / 1000 correct (44.20)\n",
            "\n",
            "Iteration 500, loss = 1.5084\n",
            "Checking accuracy on validation set\n",
            "Got 451 / 1000 correct (45.10)\n",
            "\n",
            "Iteration 600, loss = 1.4553\n",
            "Checking accuracy on validation set\n",
            "Got 448 / 1000 correct (44.80)\n",
            "\n",
            "Iteration 700, loss = 1.8002\n",
            "Checking accuracy on validation set\n",
            "Got 413 / 1000 correct (41.30)\n",
            "\n"
          ]
        }
      ],
      "source": [
        "# We need to wrap `flatten` function in a module in order to stack it\n",
        "# in nn.Sequential\n",
        "class Flatten(nn.Module):\n",
        "    def forward(self, x):\n",
        "        return flatten(x)\n",
        "\n",
        "hidden_layer_size = 4000\n",
        "learning_rate = 1e-2\n",
        "\n",
        "model = nn.Sequential(\n",
        "    Flatten(),\n",
        "    nn.Linear(3 * 32 * 32, hidden_layer_size),\n",
        "    nn.ReLU(),\n",
        "    nn.Linear(hidden_layer_size, 10),\n",
        ")\n",
        "\n",
        "# you can use Nesterov momentum in optim.SGD\n",
        "optimizer = optim.SGD(model.parameters(), lr=learning_rate,\n",
        "                     momentum=0.9, nesterov=True)\n",
        "\n",
        "_ = train_module(model, optimizer)"
      ]
    },
    {
      "cell_type": "markdown",
      "metadata": {
        "id": "lOZFoHEPASUz"
      },
      "source": [
        "### 2. Three-Layer ConvNet\n",
        "Here you should use `nn.Sequential` to define and train a three-layer ConvNet with the same architecture we used in Part III:\n",
        "\n",
        "1. Convolutional layer (with bias) with 32 5x5 filters, with zero-padding of 2\n",
        "2. ReLU\n",
        "3. Convolutional layer (with bias) with 16 3x3 filters, with zero-padding of 1\n",
        "4. ReLU\n",
        "5. Fully-connected layer (with bias) to compute scores for 10 classes\n",
        "\n",
        "**Q11.** Modify the code below to build a 3-layer ConvNet with the `nn.Sequential` API. You should initialize your weight matrices using the `random_weight` function defined above, and you should initialize your bias vectors using the `zero_weight` function above. You should optimize your model using stochastic gradient descent with Nesterov momentum 0.9."
      ]
    },
    {
      "cell_type": "code",
      "execution_count": 89,
      "metadata": {
        "id": "sequential_accuracy"
      },
      "outputs": [
        {
          "name": "stdout",
          "output_type": "stream",
          "text": [
            "Iteration 0, loss = 2.3273\n",
            "Checking accuracy on validation set\n",
            "Got 119 / 1000 correct (11.90)\n",
            "\n",
            "Iteration 100, loss = 1.5571\n",
            "Checking accuracy on validation set\n",
            "Got 469 / 1000 correct (46.90)\n",
            "\n",
            "Iteration 200, loss = 1.4797\n",
            "Checking accuracy on validation set\n",
            "Got 447 / 1000 correct (44.70)\n",
            "\n",
            "Iteration 300, loss = 1.3002\n",
            "Checking accuracy on validation set\n",
            "Got 501 / 1000 correct (50.10)\n",
            "\n",
            "Iteration 400, loss = 1.1858\n",
            "Checking accuracy on validation set\n",
            "Got 535 / 1000 correct (53.50)\n",
            "\n",
            "Iteration 500, loss = 1.3562\n",
            "Checking accuracy on validation set\n",
            "Got 565 / 1000 correct (56.50)\n",
            "\n",
            "Iteration 600, loss = 1.3340\n",
            "Checking accuracy on validation set\n",
            "Got 563 / 1000 correct (56.30)\n",
            "\n",
            "Iteration 700, loss = 1.3120\n",
            "Checking accuracy on validation set\n",
            "Got 566 / 1000 correct (56.60)\n",
            "\n"
          ]
        }
      ],
      "source": [
        "channel_1 = 32\n",
        "channel_2 = 16\n",
        "learning_rate = 1e-2\n",
        "\n",
        "model = None\n",
        "optimizer = None\n",
        "\n",
        "################################################################################\n",
        "# TODO: Rewrite the 3-layer ConvNet with bias from Part III with the           #\n",
        "# Sequential API.                                                              #\n",
        "################################################################################\n",
        "# *****START OF YOUR CODE (DO NOT DELETE/MODIFY THIS LINE)*****\n",
        "\n",
        "\n",
        "model = nn.Sequential(\n",
        "    nn.Conv2d(3,channel_1,kernel_size=(5,5),padding = 2),\n",
        "    nn.ReLU(),\n",
        "    nn.Conv2d(channel_1,channel_2,kernel_size=(3,3),padding = 1),\n",
        "    nn.ReLU(),\n",
        "    Flatten(),\n",
        "    nn.Linear(channel_2*32*32,10),\n",
        ")\n",
        "\n",
        "optimizer = optim.SGD(model.parameters(), lr=learning_rate,\n",
        "                     momentum=0.9, nesterov=True)\n",
        "\n",
        "# *****END OF YOUR CODE (DO NOT DELETE/MODIFY THIS LINE)*****\n",
        "################################################################################\n",
        "#                                 END OF YOUR CODE\n",
        "################################################################################\n",
        "\n",
        "losses = train_module(model, optimizer)"
      ]
    },
    {
      "cell_type": "markdown",
      "metadata": {
        "id": "vZ8fnMtfziPR"
      },
      "source": [
        "Again, you don't need to tune any hyperparameters but you should see accuracy above 55% after one epoch of training. Check that the loss is decreasing:"
      ]
    },
    {
      "cell_type": "code",
      "execution_count": 90,
      "metadata": {
        "id": "goPgAH9ZziPR"
      },
      "outputs": [
        {
          "name": "stderr",
          "output_type": "stream",
          "text": [
            "C:\\Users\\murat\\AppData\\Local\\Temp\\ipykernel_19336\\344951143.py:6: UserWarning: Matplotlib is currently using module://matplotlib_inline.backend_inline, which is a non-GUI backend, so cannot show the figure.\n",
            "  fig.show()\n"
          ]
        },
        {
          "data": {
            "image/png": "[encoded data removed]",
            "text/plain": [
              "<Figure size 1100x600 with 1 Axes>"
            ]
          },
          "metadata": {},
          "output_type": "display_data"
        }
      ],
      "source": [
        "fig, ax = plt.subplots(figsize=(11, 6))\n",
        "x = sorted(losses[0].keys())\n",
        "y = [loss_train[e] for e in x]\n",
        "ax.plot(x, y, label='loss')\n",
        "ax.legend()\n",
        "fig.show()"
      ]
    },
    {
      "cell_type": "markdown",
      "metadata": {},
      "source": [
        "The loss is decreasing as expected and the accuracy reached the desired value of above 55%. However, when using the designated initialization functions `random_weight` and `zero_weight` the model performed badly, so I decided to use the standard initilization from pytorch."
      ]
    },
    {
      "cell_type": "markdown",
      "metadata": {
        "id": "4nF5LXEXASUz"
      },
      "source": [
        "# Part V. CIFAR-10 open-ended challenge\n",
        "\n",
        "In this section, you can experiment with whatever ConvNet architecture you'd like on CIFAR-10.\n",
        "\n",
        "Now it's your job to experiment with architectures, hyperparameters, loss functions, and optimizers to train a model that achieves **at least 70%** accuracy on the CIFAR-10 **validation** set within 10 epochs. You can use the check_accuracy and train functions from above. You can use either `nn.Module` or `nn.Sequential` API.\n",
        "\n",
        "Describe what you did at the end of this notebook.\n",
        "\n",
        "Here are the official API documentation for each component. One note: what we call in the class \"spatial batch norm\" is called \"BatchNorm2D\" in PyTorch.\n",
        "\n",
        "* Layers in torch.nn package: http://pytorch.org/docs/stable/nn.html\n",
        "* Activations: http://pytorch.org/docs/stable/nn.html#non-linear-activations\n",
        "* Loss functions: http://pytorch.org/docs/stable/nn.html#loss-functions\n",
        "* Optimizers: http://pytorch.org/docs/stable/optim.html\n",
        "\n",
        "\n",
        "### Things you might try:\n",
        "- **Filter size**: Above we used 5x5; would smaller filters be more efficient?\n",
        "- **Number of filters**: Above we used 32 filters. Do more or fewer do better?\n",
        "- **Pooling vs Strided Convolution**: Do you use max pooling or just stride convolutions?\n",
        "- **Batch normalization**: Try adding spatial batch normalization after convolution layers and vanilla batch normalization after affine layers. Do your networks train faster?\n",
        "- **Network architecture**: The network above has two layers of trainable parameters. Can you do better with a deep network? Good architectures to try include:\n",
        "    - [conv-relu-pool]xN -> [affine]xM -> [softmax or SVM]\n",
        "    - [conv-relu-conv-relu-pool]xN -> [affine]xM -> [softmax or SVM]\n",
        "    - [batchnorm-relu-conv]xN -> [affine]xM -> [softmax or SVM]\n",
        "- **Global Average Pooling**: Instead of flattening and then having multiple affine layers, perform convolutions until your image gets small (7x7 or so) and then perform an average pooling operation to get to a 1x1 image picture (1, 1 , Filter#), which is then reshaped into a (Filter#) vector. This is used in [Google's Inception Network](https://arxiv.org/abs/1512.00567) (See Table 1 for their architecture).\n",
        "- **Regularization**: Add l2 weight regularization, or perhaps use Dropout.\n",
        "\n",
        "### Tips for training\n",
        "For each network architecture that you try, you should tune the learning rate and other hyperparameters. When doing this there are a couple important things to keep in mind:\n",
        "\n",
        "- If the parameters are working well, you should see improvement within a few hundred iterations\n",
        "- Remember the coarse-to-fine approach for hyperparameter tuning: start by testing a large range of hyperparameters for just a few training iterations to find the combinations of parameters that are working at all.\n",
        "- Once you have found some sets of parameters that seem to work, search more finely around these parameters. You may need to train for more epochs.\n",
        "- You should use the validation set for hyperparameter search, and save your test set for evaluating your architecture on the best parameters as selected by the validation set.\n",
        "\n",
        "### Going above and beyond\n",
        "If you are feeling adventurous there are many other features you can implement to try and improve your performance. You are **not required** to implement any of these, but don't miss the fun if you have time!\n",
        "\n",
        "- Alternative optimizers: you can try Adam, Adagrad, RMSprop, etc.\n",
        "- Alternative activation functions such as leaky ReLU, parametric ReLU, ELU, or MaxOut.\n",
        "- Model ensembles\n",
        "- Data augmentation\n",
        "- New Architectures\n",
        "  - [ResNets](https://arxiv.org/abs/1512.03385) where the input from the previous layer is added to the output.\n",
        "  - [DenseNets](https://arxiv.org/abs/1608.06993) where inputs into previous layers are concatenated together.\n",
        "  - [This blog has an in-depth overview](https://chatbotslife.com/resnets-highwaynets-and-densenets-oh-my-9bb15918ee32)\n",
        "\n",
        "### Have fun and happy training!"
      ]
    },
    {
      "cell_type": "code",
      "execution_count": 112,
      "metadata": {
        "id": "open_ended_accuracy"
      },
      "outputs": [
        {
          "name": "stdout",
          "output_type": "stream",
          "text": [
            "Iteration 0, loss = 2.2963\n",
            "Checking accuracy on validation set\n",
            "Got 98 / 1000 correct (9.80)\n",
            "\n",
            "Iteration 100, loss = 2.2969\n",
            "Checking accuracy on validation set\n",
            "Got 139 / 1000 correct (13.90)\n",
            "\n",
            "Iteration 200, loss = 2.2985\n",
            "Checking accuracy on validation set\n",
            "Got 155 / 1000 correct (15.50)\n",
            "\n",
            "Iteration 300, loss = 2.2825\n",
            "Checking accuracy on validation set\n",
            "Got 166 / 1000 correct (16.60)\n",
            "\n",
            "Iteration 400, loss = 2.2916\n",
            "Checking accuracy on validation set\n",
            "Got 183 / 1000 correct (18.30)\n",
            "\n",
            "Iteration 500, loss = 2.2610\n",
            "Checking accuracy on validation set\n",
            "Got 200 / 1000 correct (20.00)\n",
            "\n",
            "Iteration 600, loss = 2.2656\n",
            "Checking accuracy on validation set\n",
            "Got 223 / 1000 correct (22.30)\n",
            "\n",
            "Iteration 700, loss = 2.2557\n",
            "Checking accuracy on validation set\n",
            "Got 242 / 1000 correct (24.20)\n",
            "\n",
            "Checking accuracy on validation set\n",
            "Got 267 / 1000 correct (26.70)\n",
            "Iteration 0, loss = 2.3028\n",
            "Checking accuracy on validation set\n",
            "Got 102 / 1000 correct (10.20)\n",
            "\n",
            "Iteration 100, loss = 2.2919\n",
            "Checking accuracy on validation set\n",
            "Got 203 / 1000 correct (20.30)\n",
            "\n",
            "Iteration 200, loss = 2.2435\n",
            "Checking accuracy on validation set\n",
            "Got 298 / 1000 correct (29.80)\n",
            "\n",
            "Iteration 300, loss = 2.1393\n",
            "Checking accuracy on validation set\n",
            "Got 305 / 1000 correct (30.50)\n",
            "\n",
            "Iteration 400, loss = 1.9420\n",
            "Checking accuracy on validation set\n",
            "Got 326 / 1000 correct (32.60)\n",
            "\n",
            "Iteration 500, loss = 1.7048\n",
            "Checking accuracy on validation set\n",
            "Got 365 / 1000 correct (36.50)\n",
            "\n",
            "Iteration 600, loss = 1.7215\n",
            "Checking accuracy on validation set\n",
            "Got 406 / 1000 correct (40.60)\n",
            "\n",
            "Iteration 700, loss = 1.7183\n",
            "Checking accuracy on validation set\n",
            "Got 414 / 1000 correct (41.40)\n",
            "\n",
            "Checking accuracy on validation set\n",
            "Got 426 / 1000 correct (42.60)\n",
            "Iteration 0, loss = 2.2999\n",
            "Checking accuracy on validation set\n",
            "Got 105 / 1000 correct (10.50)\n",
            "\n",
            "Iteration 100, loss = 2.2498\n",
            "Checking accuracy on validation set\n",
            "Got 163 / 1000 correct (16.30)\n",
            "\n",
            "Iteration 200, loss = 2.0233\n",
            "Checking accuracy on validation set\n",
            "Got 314 / 1000 correct (31.40)\n",
            "\n",
            "Iteration 300, loss = 1.7529\n",
            "Checking accuracy on validation set\n",
            "Got 362 / 1000 correct (36.20)\n",
            "\n",
            "Iteration 400, loss = 1.6469\n",
            "Checking accuracy on validation set\n",
            "Got 373 / 1000 correct (37.30)\n",
            "\n",
            "Iteration 500, loss = 1.6405\n",
            "Checking accuracy on validation set\n",
            "Got 443 / 1000 correct (44.30)\n",
            "\n",
            "Iteration 600, loss = 1.2651\n",
            "Checking accuracy on validation set\n",
            "Got 488 / 1000 correct (48.80)\n",
            "\n",
            "Iteration 700, loss = 1.2795\n",
            "Checking accuracy on validation set\n",
            "Got 504 / 1000 correct (50.40)\n",
            "\n",
            "Checking accuracy on validation set\n",
            "Got 472 / 1000 correct (47.20)\n",
            "Iteration 0, loss = 2.3029\n",
            "Checking accuracy on validation set\n",
            "Got 102 / 1000 correct (10.20)\n",
            "\n",
            "Iteration 100, loss = 1.6419\n",
            "Checking accuracy on validation set\n",
            "Got 353 / 1000 correct (35.30)\n",
            "\n",
            "Iteration 200, loss = 1.4460\n",
            "Checking accuracy on validation set\n",
            "Got 440 / 1000 correct (44.00)\n",
            "\n",
            "Iteration 300, loss = 1.2425\n",
            "Checking accuracy on validation set\n",
            "Got 464 / 1000 correct (46.40)\n",
            "\n",
            "Iteration 400, loss = 1.1906\n",
            "Checking accuracy on validation set\n",
            "Got 500 / 1000 correct (50.00)\n",
            "\n",
            "Iteration 500, loss = 1.0211\n",
            "Checking accuracy on validation set\n",
            "Got 571 / 1000 correct (57.10)\n",
            "\n",
            "Iteration 600, loss = 0.8405\n",
            "Checking accuracy on validation set\n",
            "Got 539 / 1000 correct (53.90)\n",
            "\n",
            "Iteration 700, loss = 1.0582\n",
            "Checking accuracy on validation set\n",
            "Got 590 / 1000 correct (59.00)\n",
            "\n",
            "Checking accuracy on validation set\n",
            "Got 670 / 1000 correct (67.00)\n",
            "Iteration 0, loss = 2.3054\n",
            "Checking accuracy on validation set\n",
            "Got 126 / 1000 correct (12.60)\n",
            "\n",
            "Iteration 100, loss = 1.6905\n",
            "Checking accuracy on validation set\n",
            "Got 252 / 1000 correct (25.20)\n",
            "\n",
            "Iteration 200, loss = 1.7854\n",
            "Checking accuracy on validation set\n",
            "Got 453 / 1000 correct (45.30)\n",
            "\n",
            "Iteration 300, loss = 1.5105\n",
            "Checking accuracy on validation set\n",
            "Got 514 / 1000 correct (51.40)\n",
            "\n",
            "Iteration 400, loss = 1.0973\n",
            "Checking accuracy on validation set\n",
            "Got 574 / 1000 correct (57.40)\n",
            "\n",
            "Iteration 500, loss = 1.0947\n",
            "Checking accuracy on validation set\n",
            "Got 563 / 1000 correct (56.30)\n",
            "\n",
            "Iteration 600, loss = 0.8553\n",
            "Checking accuracy on validation set\n",
            "Got 637 / 1000 correct (63.70)\n",
            "\n",
            "Iteration 700, loss = 0.9015\n",
            "Checking accuracy on validation set\n",
            "Got 632 / 1000 correct (63.20)\n",
            "\n",
            "Checking accuracy on validation set\n",
            "Got 669 / 1000 correct (66.90)\n",
            "best lr: 0.005\n",
            "Iteration 0, loss = 2.3018\n",
            "Checking accuracy on validation set\n",
            "Got 107 / 1000 correct (10.70)\n",
            "\n",
            "Iteration 100, loss = 1.8077\n",
            "Checking accuracy on validation set\n",
            "Got 287 / 1000 correct (28.70)\n",
            "\n",
            "Iteration 200, loss = 1.7627\n",
            "Checking accuracy on validation set\n",
            "Got 404 / 1000 correct (40.40)\n",
            "\n",
            "Iteration 300, loss = 1.2656\n",
            "Checking accuracy on validation set\n",
            "Got 471 / 1000 correct (47.10)\n",
            "\n",
            "Iteration 400, loss = 1.3986\n",
            "Checking accuracy on validation set\n",
            "Got 538 / 1000 correct (53.80)\n",
            "\n",
            "Iteration 500, loss = 1.4338\n",
            "Checking accuracy on validation set\n",
            "Got 526 / 1000 correct (52.60)\n",
            "\n",
            "Iteration 600, loss = 1.1856\n",
            "Checking accuracy on validation set\n",
            "Got 604 / 1000 correct (60.40)\n",
            "\n",
            "Iteration 700, loss = 0.9389\n",
            "Checking accuracy on validation set\n",
            "Got 604 / 1000 correct (60.40)\n",
            "\n",
            "Iteration 0, loss = 0.9790\n",
            "Checking accuracy on validation set\n",
            "Got 626 / 1000 correct (62.60)\n",
            "\n",
            "Iteration 100, loss = 0.7606\n",
            "Checking accuracy on validation set\n",
            "Got 634 / 1000 correct (63.40)\n",
            "\n",
            "Iteration 200, loss = 1.0202\n",
            "Checking accuracy on validation set\n",
            "Got 634 / 1000 correct (63.40)\n",
            "\n",
            "Iteration 300, loss = 0.8203\n",
            "Checking accuracy on validation set\n",
            "Got 671 / 1000 correct (67.10)\n",
            "\n",
            "Iteration 400, loss = 0.8609\n",
            "Checking accuracy on validation set\n",
            "Got 677 / 1000 correct (67.70)\n",
            "\n",
            "Iteration 500, loss = 0.9867\n",
            "Checking accuracy on validation set\n",
            "Got 707 / 1000 correct (70.70)\n",
            "\n",
            "Iteration 600, loss = 0.5928\n",
            "Checking accuracy on validation set\n",
            "Got 716 / 1000 correct (71.60)\n",
            "\n",
            "Iteration 700, loss = 0.9285\n",
            "Checking accuracy on validation set\n",
            "Got 647 / 1000 correct (64.70)\n",
            "\n",
            "Iteration 0, loss = 0.9539\n",
            "Checking accuracy on validation set\n",
            "Got 662 / 1000 correct (66.20)\n",
            "\n",
            "Iteration 100, loss = 0.8607\n",
            "Checking accuracy on validation set\n",
            "Got 724 / 1000 correct (72.40)\n",
            "\n",
            "Iteration 200, loss = 0.9287\n",
            "Checking accuracy on validation set\n",
            "Got 715 / 1000 correct (71.50)\n",
            "\n",
            "Iteration 300, loss = 0.5120\n",
            "Checking accuracy on validation set\n",
            "Got 717 / 1000 correct (71.70)\n",
            "\n",
            "Iteration 400, loss = 0.5899\n",
            "Checking accuracy on validation set\n",
            "Got 758 / 1000 correct (75.80)\n",
            "\n",
            "Iteration 500, loss = 0.7902\n",
            "Checking accuracy on validation set\n",
            "Got 756 / 1000 correct (75.60)\n",
            "\n",
            "Iteration 600, loss = 0.6374\n",
            "Checking accuracy on validation set\n",
            "Got 702 / 1000 correct (70.20)\n",
            "\n",
            "Iteration 700, loss = 0.4472\n",
            "Checking accuracy on validation set\n",
            "Got 778 / 1000 correct (77.80)\n",
            "\n",
            "Iteration 0, loss = 0.7321\n",
            "Checking accuracy on validation set\n",
            "Got 772 / 1000 correct (77.20)\n",
            "\n",
            "Iteration 100, loss = 0.6270\n",
            "Checking accuracy on validation set\n",
            "Got 762 / 1000 correct (76.20)\n",
            "\n",
            "Iteration 200, loss = 0.6439\n",
            "Checking accuracy on validation set\n",
            "Got 738 / 1000 correct (73.80)\n",
            "\n",
            "Iteration 300, loss = 0.5440\n",
            "Checking accuracy on validation set\n",
            "Got 782 / 1000 correct (78.20)\n",
            "\n",
            "Iteration 400, loss = 0.6208\n",
            "Checking accuracy on validation set\n",
            "Got 815 / 1000 correct (81.50)\n",
            "\n",
            "Iteration 500, loss = 0.7168\n",
            "Checking accuracy on validation set\n",
            "Got 786 / 1000 correct (78.60)\n",
            "\n",
            "Iteration 600, loss = 0.4412\n",
            "Checking accuracy on validation set\n",
            "Got 749 / 1000 correct (74.90)\n",
            "\n",
            "Iteration 700, loss = 0.6416\n",
            "Checking accuracy on validation set\n",
            "Got 763 / 1000 correct (76.30)\n",
            "\n",
            "Iteration 0, loss = 0.4171\n",
            "Checking accuracy on validation set\n",
            "Got 721 / 1000 correct (72.10)\n",
            "\n",
            "Iteration 100, loss = 0.4522\n",
            "Checking accuracy on validation set\n",
            "Got 790 / 1000 correct (79.00)\n",
            "\n",
            "Iteration 200, loss = 0.6171\n",
            "Checking accuracy on validation set\n",
            "Got 762 / 1000 correct (76.20)\n",
            "\n",
            "Iteration 300, loss = 0.4404\n",
            "Checking accuracy on validation set\n",
            "Got 774 / 1000 correct (77.40)\n",
            "\n",
            "Iteration 400, loss = 0.6438\n",
            "Checking accuracy on validation set\n",
            "Got 743 / 1000 correct (74.30)\n",
            "\n",
            "Iteration 500, loss = 0.6368\n",
            "Checking accuracy on validation set\n",
            "Got 756 / 1000 correct (75.60)\n",
            "\n",
            "Iteration 600, loss = 0.4950\n",
            "Checking accuracy on validation set\n",
            "Got 805 / 1000 correct (80.50)\n",
            "\n",
            "Iteration 700, loss = 0.5676\n",
            "Checking accuracy on validation set\n",
            "Got 800 / 1000 correct (80.00)\n",
            "\n",
            "Iteration 0, loss = 0.2742\n",
            "Checking accuracy on validation set\n",
            "Got 817 / 1000 correct (81.70)\n",
            "\n",
            "Iteration 100, loss = 0.5427\n",
            "Checking accuracy on validation set\n",
            "Got 795 / 1000 correct (79.50)\n",
            "\n",
            "Iteration 200, loss = 0.3768\n",
            "Checking accuracy on validation set\n",
            "Got 804 / 1000 correct (80.40)\n",
            "\n",
            "Iteration 300, loss = 0.3468\n",
            "Checking accuracy on validation set\n",
            "Got 786 / 1000 correct (78.60)\n",
            "\n",
            "Iteration 400, loss = 0.5371\n",
            "Checking accuracy on validation set\n",
            "Got 760 / 1000 correct (76.00)\n",
            "\n",
            "Iteration 500, loss = 0.7123\n",
            "Checking accuracy on validation set\n",
            "Got 761 / 1000 correct (76.10)\n",
            "\n",
            "Iteration 600, loss = 0.4440\n",
            "Checking accuracy on validation set\n",
            "Got 743 / 1000 correct (74.30)\n",
            "\n",
            "Iteration 700, loss = 0.5474\n",
            "Checking accuracy on validation set\n",
            "Got 764 / 1000 correct (76.40)\n",
            "\n",
            "Iteration 0, loss = 0.4947\n",
            "Checking accuracy on validation set\n",
            "Got 763 / 1000 correct (76.30)\n",
            "\n",
            "Iteration 100, loss = 0.4831\n",
            "Checking accuracy on validation set\n",
            "Got 778 / 1000 correct (77.80)\n",
            "\n",
            "Iteration 200, loss = 0.5769\n",
            "Checking accuracy on validation set\n",
            "Got 776 / 1000 correct (77.60)\n",
            "\n",
            "Iteration 300, loss = 0.5560\n",
            "Checking accuracy on validation set\n",
            "Got 750 / 1000 correct (75.00)\n",
            "\n",
            "Iteration 400, loss = 0.5336\n",
            "Checking accuracy on validation set\n",
            "Got 824 / 1000 correct (82.40)\n",
            "\n",
            "Iteration 500, loss = 0.3854\n",
            "Checking accuracy on validation set\n",
            "Got 723 / 1000 correct (72.30)\n",
            "\n",
            "Iteration 600, loss = 0.4209\n",
            "Checking accuracy on validation set\n",
            "Got 779 / 1000 correct (77.90)\n",
            "\n",
            "Iteration 700, loss = 0.4735\n",
            "Checking accuracy on validation set\n",
            "Got 788 / 1000 correct (78.80)\n",
            "\n",
            "Iteration 0, loss = 0.3790\n",
            "Checking accuracy on validation set\n",
            "Got 780 / 1000 correct (78.00)\n",
            "\n",
            "Iteration 100, loss = 0.2684\n",
            "Checking accuracy on validation set\n",
            "Got 823 / 1000 correct (82.30)\n",
            "\n",
            "Iteration 200, loss = 0.4277\n",
            "Checking accuracy on validation set\n",
            "Got 828 / 1000 correct (82.80)\n",
            "\n",
            "Iteration 300, loss = 0.3427\n",
            "Checking accuracy on validation set\n",
            "Got 760 / 1000 correct (76.00)\n",
            "\n",
            "Iteration 400, loss = 0.3100\n",
            "Checking accuracy on validation set\n",
            "Got 809 / 1000 correct (80.90)\n",
            "\n",
            "Iteration 500, loss = 0.4421\n",
            "Checking accuracy on validation set\n",
            "Got 825 / 1000 correct (82.50)\n",
            "\n",
            "Iteration 600, loss = 0.4870\n",
            "Checking accuracy on validation set\n",
            "Got 814 / 1000 correct (81.40)\n",
            "\n",
            "Iteration 700, loss = 0.3698\n",
            "Checking accuracy on validation set\n",
            "Got 819 / 1000 correct (81.90)\n",
            "\n",
            "Iteration 0, loss = 0.3636\n",
            "Checking accuracy on validation set\n",
            "Got 786 / 1000 correct (78.60)\n",
            "\n",
            "Iteration 100, loss = 0.2470\n",
            "Checking accuracy on validation set\n",
            "Got 808 / 1000 correct (80.80)\n",
            "\n",
            "Iteration 200, loss = 0.2196\n",
            "Checking accuracy on validation set\n",
            "Got 832 / 1000 correct (83.20)\n",
            "\n",
            "Iteration 300, loss = 0.3335\n",
            "Checking accuracy on validation set\n",
            "Got 772 / 1000 correct (77.20)\n",
            "\n",
            "Iteration 400, loss = 0.2623\n",
            "Checking accuracy on validation set\n",
            "Got 789 / 1000 correct (78.90)\n",
            "\n",
            "Iteration 500, loss = 0.5409\n",
            "Checking accuracy on validation set\n",
            "Got 756 / 1000 correct (75.60)\n",
            "\n",
            "Iteration 600, loss = 0.2864\n",
            "Checking accuracy on validation set\n",
            "Got 772 / 1000 correct (77.20)\n",
            "\n",
            "Iteration 700, loss = 0.4406\n",
            "Checking accuracy on validation set\n",
            "Got 806 / 1000 correct (80.60)\n",
            "\n",
            "Iteration 0, loss = 0.2482\n",
            "Checking accuracy on validation set\n",
            "Got 786 / 1000 correct (78.60)\n",
            "\n",
            "Iteration 100, loss = 0.3957\n",
            "Checking accuracy on validation set\n",
            "Got 832 / 1000 correct (83.20)\n",
            "\n",
            "Iteration 200, loss = 0.4398\n",
            "Checking accuracy on validation set\n",
            "Got 811 / 1000 correct (81.10)\n",
            "\n",
            "Iteration 300, loss = 0.2428\n",
            "Checking accuracy on validation set\n",
            "Got 836 / 1000 correct (83.60)\n",
            "\n",
            "Iteration 400, loss = 0.3031\n",
            "Checking accuracy on validation set\n",
            "Got 826 / 1000 correct (82.60)\n",
            "\n",
            "Iteration 500, loss = 0.3841\n",
            "Checking accuracy on validation set\n",
            "Got 797 / 1000 correct (79.70)\n",
            "\n",
            "Iteration 600, loss = 0.4613\n",
            "Checking accuracy on validation set\n",
            "Got 818 / 1000 correct (81.80)\n",
            "\n",
            "Iteration 700, loss = 0.5983\n",
            "Checking accuracy on validation set\n",
            "Got 808 / 1000 correct (80.80)\n",
            "\n"
          ]
        }
      ],
      "source": [
        "################################################################################\n",
        "# TODO:                                                                        #\n",
        "# Experiment with any architectures, optimizers, and hyperparameters.          #\n",
        "# Achieve AT LEAST 70% accuracy on the *validation set* within 10 epochs.      #\n",
        "#                                                                              #\n",
        "# Note that you can use the check_accuracy function to evaluate on either      #\n",
        "# the test set or the validation set, by passing either loader_test or         #\n",
        "# loader_val as the second argument to check_accuracy. You should not touch    #\n",
        "# the test set until you have finished your architecture and  hyperparameter   #\n",
        "# tuning, and only run the test set once at the end to report a final value.   #\n",
        "################################################################################\n",
        "model = None\n",
        "optimizer = None\n",
        "\n",
        "# *****START OF YOUR CODE (DO NOT DELETE/MODIFY THIS LINE)*****\n",
        "\n",
        "#model definition \n",
        "class CNN(nn.Module):\n",
        "    def __init__(self):\n",
        "        super(CNN, self).__init__()\n",
        "        self.conv_layer = nn.Sequential(\n",
        "\n",
        "            # Conv Layer block 1\n",
        "            nn.Conv2d(in_channels=3, out_channels=32, kernel_size=3, padding=1),\n",
        "            nn.BatchNorm2d(32),\n",
        "            nn.ReLU(inplace=True),\n",
        "            nn.Conv2d(in_channels=32, out_channels=64, kernel_size=3, padding=1),\n",
        "            nn.ReLU(inplace=True),\n",
        "            nn.MaxPool2d(kernel_size=2, stride=2),\n",
        "\n",
        "            # Conv Layer block 2\n",
        "            nn.Conv2d(in_channels=64, out_channels=128, kernel_size=3, padding=1),\n",
        "            nn.BatchNorm2d(128),\n",
        "            nn.ReLU(inplace=True),\n",
        "            nn.Conv2d(in_channels=128, out_channels=128, kernel_size=3, padding=1),\n",
        "            nn.ReLU(inplace=True),\n",
        "            nn.MaxPool2d(kernel_size=2, stride=2),\n",
        "\n",
        "            # Conv Layer block 3\n",
        "            nn.Conv2d(in_channels=128, out_channels=256, kernel_size=3, padding=1),\n",
        "            nn.BatchNorm2d(256),\n",
        "            nn.ReLU(inplace=True),\n",
        "            nn.Conv2d(in_channels=256, out_channels=256, kernel_size=3, padding=1),\n",
        "            nn.ReLU(inplace=True),\n",
        "            nn.MaxPool2d(kernel_size=2, stride=2),\n",
        "        )\n",
        "\n",
        "        self.fc_layer = nn.Sequential(\n",
        "            nn.Linear(4096, 1024),\n",
        "            nn.ReLU(inplace=True),\n",
        "            nn.Linear(1024, 512),\n",
        "            nn.ReLU(inplace=True),\n",
        "            nn.Linear(512, 10)\n",
        "        )\n",
        "\n",
        "\n",
        "    def forward(self, x):\n",
        "        \"\"\"Perform forward.\"\"\"\n",
        "        # conv layers\n",
        "        x = self.conv_layer(x)\n",
        "        # flatten\n",
        "        x = x.view(x.size(0), -1)\n",
        "        # fc layer\n",
        "        x = self.fc_layer(x)\n",
        "\n",
        "        return x\n",
        "\n",
        "\n",
        "# Defining values to test\n",
        "learning_rates = [0.0001,0.0005,0.001,0.005, 0.01] \n",
        "\n",
        "#standard values for other trainings\n",
        "nb_epochs = 1\n",
        "\n",
        "# Initialize lists to store results for analysis\n",
        "\n",
        "result_lr = []\n",
        "\n",
        "\n",
        "# Benchmarking different learning rates with SGD\n",
        "for lr in learning_rates:\n",
        "    model = CNN().to(device)\n",
        "    optimizer= torch.optim.SGD(model.parameters(), lr=lr, weight_decay = 0.005, momentum = 0.9)\n",
        "    train_module(model, optimizer, epochs=nb_epochs)\n",
        "    result_lr.append(check_accuracy(loader_val, model))\n",
        "dict_lr = pd.DataFrame({'struc':learning_rates,'result':result_lr})\n",
        "\n",
        "#retrieving optimal learning rate\n",
        "opt_lr = dict_lr.iloc[dict_lr['result'].argmax()].values[0]\n",
        "print(\"best lr:\",opt_lr)\n",
        "\n",
        "#values to use\n",
        "model = CNN().to(device)\n",
        "optimizer= torch.optim.SGD(model.parameters(), lr=opt_lr, weight_decay = 0.005, momentum = 0.9)\n",
        "\n",
        "# *****END OF YOUR CODE (DO NOT DELETE/MODIFY THIS LINE)*****\n",
        "################################################################################\n",
        "#                                 END OF YOUR CODE\n",
        "################################################################################\n",
        "\n",
        "loss_train, loss_val = train_module(model, optimizer, epochs=10)"
      ]
    },
    {
      "cell_type": "code",
      "execution_count": 115,
      "metadata": {},
      "outputs": [
        {
          "name": "stdout",
          "output_type": "stream",
          "text": [
            "Checking accuracy on validation set\n",
            "Got 774 / 1000 correct (77.40)\n"
          ]
        },
        {
          "data": {
            "text/plain": [
              "0.774"
            ]
          },
          "execution_count": 115,
          "metadata": {},
          "output_type": "execute_result"
        }
      ],
      "source": [
        "best_model = model\n",
        "check_accuracy(loader_val, best_model)"
      ]
    },
    {
      "cell_type": "code",
      "execution_count": 113,
      "metadata": {},
      "outputs": [
        {
          "name": "stderr",
          "output_type": "stream",
          "text": [
            "C:\\Users\\murat\\AppData\\Local\\Temp\\ipykernel_19336\\2326364852.py:9: UserWarning: Matplotlib is currently using module://matplotlib_inline.backend_inline, which is a non-GUI backend, so cannot show the figure.\n",
            "  fig.show()\n"
          ]
        },
        {
          "data": {
            "image/png": "[encoded data removed]",
            "text/plain": [
              "<Figure size 1100x600 with 1 Axes>"
            ]
          },
          "metadata": {},
          "output_type": "display_data"
        }
      ],
      "source": [
        "fig, ax = plt.subplots(figsize=(11, 6))\n",
        "x = sorted(loss_train.keys())\n",
        "y = [loss_train[e] for e in x]\n",
        "ax.plot(x, y, label='loss_train')\n",
        "x = sorted(loss_val.keys())\n",
        "y = [loss_val[e] for e in x]\n",
        "ax.plot(x, y, label='loss_val')\n",
        "ax.legend()\n",
        "fig.show()"
      ]
    },
    {
      "cell_type": "markdown",
      "metadata": {
        "id": "-QroWdhgASU2",
        "tags": [
          "pdf-inline"
        ]
      },
      "source": [
        "## Describe what you did\n",
        "\n",
        "In the cell below you should write an explanation of what you did, any additional features that you implemented, and/or any graphs that you made in the process of training and evaluating your network."
      ]
    },
    {
      "cell_type": "markdown",
      "metadata": {
        "id": "awLoCuu0ASU2",
        "tags": [
          "pdf-inline"
        ]
      },
      "source": [
        "For the architecture I ended up implementing, I was inspired by the one found in the following [medium article](https://shonit2096.medium.com/cnn-on-cifar10-data-set-using-pytorch-34be87e09844). \n",
        "\n",
        "It consists of a sequence of 3 convolutional blocks followed by 3 fully connected layers. The convolutional blocks are composed by [conv-batchnorm-relu-conv-relu-pool].\n",
        "\n",
        "The filters of the convolutional layers are always of size 3 and the numer of filters double after each layer. \n",
        "\n",
        "This architecture showed results of over 70% on the validation set after 10 epochs, so I did not try to improve the performance by tweaking the architecture.\n",
        "\n",
        "I tested a benchmark of different values for the learning_rate: 0.0001, 0.0005, 0.001, 0.005 and 0.01. The value which resulted in the best accuracy over the val set was 0.005, so it was chosen for the training of the final model over 10 epochs.\n",
        "\n",
        "From the plotted losses, we can see that by the end the val loss became stable, while the train less was oscilating. This might have been due to a too large learning rate, reducing it after the 5th epoch could have probably improved the performance of the training.\n",
        "\n",
        "The model scored 77% accuracy over the val set, so I decided the model was good enough"
      ]
    },
    {
      "cell_type": "markdown",
      "metadata": {
        "id": "IubJoAptASU4"
      },
      "source": [
        "## Test set -- run this only once\n",
        "\n",
        "Now that we've gotten a result we're happy with, we test our final model on the test set (which you should store in best_model). Think about how this compares to your validation set accuracy."
      ]
    },
    {
      "cell_type": "code",
      "execution_count": 114,
      "metadata": {
        "id": "Y_9lW7PhASU4"
      },
      "outputs": [
        {
          "name": "stdout",
          "output_type": "stream",
          "text": [
            "Checking accuracy on test set\n",
            "Got 7545 / 10000 correct (75.45)\n"
          ]
        },
        {
          "data": {
            "text/plain": [
              "0.7545"
            ]
          },
          "execution_count": 114,
          "metadata": {},
          "output_type": "execute_result"
        }
      ],
      "source": [
        "best_model = model\n",
        "check_accuracy(loader_test, best_model)"
      ]
    },
    {
      "cell_type": "markdown",
      "metadata": {},
      "source": [
        "The model scored 2% less on the test set compared to the val, which is acceptable since I used the val set to select the hyper parameters."
      ]
    }
  ],
  "metadata": {
    "accelerator": "GPU",
    "celltoolbar": "Edit Metadata",
    "colab": {
      "gpuType": "T4",
      "provenance": []
    },
    "kernelspec": {
      "display_name": "Python 3",
      "name": "python3"
    },
    "language_info": {
      "codemirror_mode": {
        "name": "ipython",
        "version": 3
      },
      "file_extension": ".py",
      "mimetype": "text/x-python",
      "name": "python",
      "nbconvert_exporter": "python",
      "pygments_lexer": "ipython3",
      "version": "3.11.5"
    },
    "toc": {
      "nav_menu": {},
      "number_sections": true,
      "sideBar": true,
      "skip_h1_title": false,
      "toc_cell": false,
      "toc_position": {},
      "toc_section_display": "block",
      "toc_window_display": false
    },
    "varInspector": {
      "cols": {
        "lenName": 16,
        "lenType": 16,
        "lenVar": 40
      },
      "kernels_config": {
        "python": {
          "delete_cmd_postfix": "",
          "delete_cmd_prefix": "del ",
          "library": "var_list.py",
          "varRefreshCmd": "print(var_dic_list())"
        },
        "r": {
          "delete_cmd_postfix": ") ",
          "delete_cmd_prefix": "rm(",
          "library": "var_list.r",
          "varRefreshCmd": "cat(var_dic_list()) "
        }
      },
      "types_to_exclude": [
        "module",
        "function",
        "builtin_function_or_method",
        "instance",
        "_Feature"
      ],
      "window_display": false
    }
  },
  "nbformat": 4,
  "nbformat_minor": 0
}
